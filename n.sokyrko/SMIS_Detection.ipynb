{
  "nbformat": 4,
  "nbformat_minor": 0,
  "metadata": {
    "language_info": {
      "codemirror_mode": {
        "name": "ipython",
        "version": 3
      },
      "file_extension": ".py",
      "mimetype": "text/x-python",
      "name": "python",
      "nbconvert_exporter": "python",
      "pygments_lexer": "ipython3",
      "version": "3.8.3-candidate"
    },
    "orig_nbformat": 2,
    "kernelspec": {
      "name": "python38364bitf99a00d09c66447887f1a84f95bf111b",
      "display_name": "Python 3.8.3 64-bit",
      "language": "python"
    },
    "colab": {
      "name": "spam_detection_guide (5).ipynb",
      "provenance": [],
      "collapsed_sections": []
    }
  },
  "cells": [
    {
      "cell_type": "markdown",
      "metadata": {
        "id": "XMOoX2JBDBVS"
      },
      "source": [
        "# SMIS DETECTION\n"
      ]
    },
    {
      "cell_type": "code",
      "metadata": {
        "id": "pxPWW1VYDBVj"
      },
      "source": [
        "import tensorflow_hub as hub\n",
        "import tensorflow.compat.v1 as tf\n",
        "tf.disable_eager_execution()\n",
        "import numpy as np\n",
        "import pandas as pd\n",
        "import sklearn\n",
        "from sklearn.ensemble import RandomForestClassifier\n",
        "from sklearn.neighbors import KNeighborsClassifier\n",
        "from sklearn.linear_model import LogisticRegression\n",
        "from sklearn.model_selection import train_test_split\n",
        "from sklearn import metrics\n",
        "from sklearn.model_selection import GridSearchCV"
      ],
      "execution_count": 1,
      "outputs": []
    },
    {
      "cell_type": "code",
      "metadata": {
        "colab": {
          "base_uri": "https://localhost:8080/"
        },
        "id": "eI1WkILQECO6",
        "outputId": "2b79e469-2030-4804-997b-85670eb76955"
      },
      "source": [
        "from google.colab import drive\r\n",
        "drive.mount('/content/drive/')"
      ],
      "execution_count": 2,
      "outputs": [
        {
          "output_type": "stream",
          "text": [
            "Drive already mounted at /content/drive/; to attempt to forcibly remount, call drive.mount(\"/content/drive/\", force_remount=True).\n"
          ],
          "name": "stdout"
        }
      ]
    },
    {
      "cell_type": "code",
      "metadata": {
        "colab": {
          "resources": {
            "http://localhost:8080/nbextensions/google.colab/files.js": {
              "data": "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",
              "ok": true,
              "headers": [
                [
                  "content-type",
                  "application/javascript"
                ]
              ],
              "status": 200,
              "status_text": ""
            }
          },
          "base_uri": "https://localhost:8080/",
          "height": 73
        },
        "id": "PgvkMuReERls",
        "outputId": "24f449c1-218e-4bc2-fa75-af524c3d5221"
      },
      "source": [
        "from google.colab import files\r\n",
        "def getLocalFiles():\r\n",
        "    _files = files.upload()\r\n",
        "    if len(_files) >0:\r\n",
        "       for k,v in _files.items():\r\n",
        "         open(k,'wb').write(v)\r\n",
        "getLocalFiles()"
      ],
      "execution_count": 3,
      "outputs": [
        {
          "output_type": "display_data",
          "data": {
            "text/html": [
              "\n",
              "     <input type=\"file\" id=\"files-ee153641-27da-4dc4-b0c2-2cc3ade4058b\" name=\"files[]\" multiple disabled\n",
              "        style=\"border:none\" />\n",
              "     <output id=\"result-ee153641-27da-4dc4-b0c2-2cc3ade4058b\">\n",
              "      Upload widget is only available when the cell has been executed in the\n",
              "      current browser session. Please rerun this cell to enable.\n",
              "      </output>\n",
              "      <script src=\"/nbextensions/google.colab/files.js\"></script> "
            ],
            "text/plain": [
              "<IPython.core.display.HTML object>"
            ]
          },
          "metadata": {
            "tags": []
          }
        },
        {
          "output_type": "stream",
          "text": [
            "Saving Natalia_Sokyrko_dataset.txt to Natalia_Sokyrko_dataset (1).txt\n"
          ],
          "name": "stdout"
        }
      ]
    },
    {
      "cell_type": "code",
      "metadata": {
        "id": "KGFyH5xiDBVk"
      },
      "source": [
        "# specify location your dataset here\n",
        "DATA_PATH = \"Natalia_Sokyrko_dataset.txt\"\n",
        "\n",
        "# give name to label-column and text-column\n",
        "COLUMN_LABEL = \"label\"\n",
        "COLUMN_TEXT = \"text\"\n",
        "\n",
        "# these are labels that indicate the type of message.\n",
        "LABEL_LEGIT = 'LEGI'\n",
        "LABEL_SPAM = 'SPAM'\n",
        "LABEL_SMISHING = 'SMIS'"
      ],
      "execution_count": 4,
      "outputs": []
    },
    {
      "cell_type": "markdown",
      "metadata": {
        "id": "7mIvc2y8DBVl"
      },
      "source": [
        "## Dataset \n",
        "In this part, we will load dataset and check it for errors.<br>\n",
        "Here dataset is loaded from file into a DataFrame. DataFrame is basically a database or a table with columns where all the data is stored.<br>\n",
        "You can access those columns by calling them by name:<br>\n",
        "<code> column = dataframe\\[column_name\\] </code>"
      ]
    },
    {
      "cell_type": "code",
      "metadata": {
        "colab": {
          "base_uri": "https://localhost:8080/"
        },
        "id": "zzCYYS82DBVm",
        "outputId": "a057783e-cea3-4121-943f-c8b427cedc34"
      },
      "source": [
        "dataset = pd.read_csv(DATA_PATH, sep='\\t', names=[COLUMN_LABEL, COLUMN_TEXT], header=None)\n",
        "print('Total size:', dataset.shape[0])\n",
        "print('Legit messages:', dataset[dataset[COLUMN_LABEL] == LABEL_LEGIT].shape[0])\n",
        "print('Spam messages:', dataset[dataset[COLUMN_LABEL] == LABEL_SPAM].shape[0])\n",
        "print('Smishing messages:', dataset[dataset[COLUMN_LABEL] == LABEL_SMISHING].shape[0])"
      ],
      "execution_count": 5,
      "outputs": [
        {
          "output_type": "stream",
          "text": [
            "Total size: 1336\n",
            "Legit messages: 1051\n",
            "Spam messages: 150\n",
            "Smishing messages: 135\n"
          ],
          "name": "stdout"
        }
      ]
    },
    {
      "cell_type": "code",
      "metadata": {
        "colab": {
          "base_uri": "https://localhost:8080/"
        },
        "id": "qWJtHjNIL-Ay",
        "outputId": "b2ff1bc4-608c-4d72-b535-3578f3c29898"
      },
      "source": [
        "dataset = dataset[((dataset[COLUMN_LABEL] == LABEL_LEGIT) | (dataset[COLUMN_LABEL] == LABEL_SMISHING))]\r\n",
        "\r\n",
        "# Let's check if they are gone\r\n",
        "print('SPAM messages:', dataset[dataset[COLUMN_LABEL] == LABEL_SPAM].shape[0])"
      ],
      "execution_count": 6,
      "outputs": [
        {
          "output_type": "stream",
          "text": [
            "SPAM messages: 0\n"
          ],
          "name": "stdout"
        }
      ]
    },
    {
      "cell_type": "code",
      "metadata": {
        "id": "nK6xNxetDBVq"
      },
      "source": [
        "def messages2vectors(messages):\n",
        "    '''\n",
        "    Transforms single message into feature-vector;\n",
        "    Parameters:\n",
        "        messages    -   array of strings;\n",
        "    Returns:\n",
        "        features    -   array of feature-vectors;   \n",
        "    '''\n",
        "\n",
        "    elmo = hub.Module(\"https://tfhub.dev/google/elmo/1\")\n",
        "\n",
        "    features = np.zeros((0, 1024))\n",
        "    n = 100\n",
        "    l = int(len(messages) / n) if len(messages) % n == 0 else int(len(messages) / n) + 1\n",
        "    for i in range(l):\n",
        "\n",
        "        if (i + 1) * n < len(messages):\n",
        "            right = (i + 1) * n\n",
        "            embedds = elmo(messages[int(i * n) : right], signature=\"default\", as_dict=True)[\"default\"] \n",
        "        else:\n",
        "            embedds = elmo(messages[:len(messages) - int(i * n)], signature=\"default\", as_dict=True)[\"default\"] \n",
        "\n",
        "        with tf.Session() as sess:\n",
        "            sess.run(tf.global_variables_initializer())\n",
        "            embedds = sess.run(embedds)\n",
        "            features = np.concatenate([features, embedds])\n",
        "\n",
        "    return features"
      ],
      "execution_count": 7,
      "outputs": []
    },
    {
      "cell_type": "code",
      "metadata": {
        "id": "e_iHKw4yDBVs"
      },
      "source": [
        "def convert_labels(labels_raw):\n",
        "    '''\n",
        "    Transforms labels into numerical values;\n",
        "    Parameters:\n",
        "        labels_raw    -   array of text-labels;\n",
        "    Returns:\n",
        "        features    -   array of numerical labels;   \n",
        "    ''' \n",
        "\n",
        "    # add your code here\n",
        "    labels = np.asarray([1 if i=='SMIS' else 0 for i in labels_raw ]).astype('int')\n",
        "\n",
        "    return labels"
      ],
      "execution_count": 8,
      "outputs": []
    },
    {
      "cell_type": "markdown",
      "metadata": {
        "id": "rLKBa55EDBVs"
      },
      "source": [
        "Now let's transform messages to features and change labels to numerical values"
      ]
    },
    {
      "cell_type": "code",
      "metadata": {
        "colab": {
          "base_uri": "https://localhost:8080/"
        },
        "id": "sEzVi2KRDBVt",
        "outputId": "2e87497d-f3fc-433a-e761-628d93dec644"
      },
      "source": [
        "features = messages2vectors(dataset[COLUMN_TEXT])\n",
        "labels = convert_labels(dataset[COLUMN_LABEL])\n",
        "print(features.shape)\n",
        "print(labels.shape)"
      ],
      "execution_count": 9,
      "outputs": [
        {
          "output_type": "stream",
          "text": [
            "INFO:tensorflow:Saver not created because there are no variables in the graph to restore\n"
          ],
          "name": "stdout"
        },
        {
          "output_type": "stream",
          "text": [
            "INFO:tensorflow:Saver not created because there are no variables in the graph to restore\n"
          ],
          "name": "stderr"
        },
        {
          "output_type": "stream",
          "text": [
            "INFO:tensorflow:Saver not created because there are no variables in the graph to restore\n"
          ],
          "name": "stdout"
        },
        {
          "output_type": "stream",
          "text": [
            "INFO:tensorflow:Saver not created because there are no variables in the graph to restore\n"
          ],
          "name": "stderr"
        },
        {
          "output_type": "stream",
          "text": [
            "INFO:tensorflow:Saver not created because there are no variables in the graph to restore\n"
          ],
          "name": "stdout"
        },
        {
          "output_type": "stream",
          "text": [
            "INFO:tensorflow:Saver not created because there are no variables in the graph to restore\n"
          ],
          "name": "stderr"
        },
        {
          "output_type": "stream",
          "text": [
            "INFO:tensorflow:Saver not created because there are no variables in the graph to restore\n"
          ],
          "name": "stdout"
        },
        {
          "output_type": "stream",
          "text": [
            "INFO:tensorflow:Saver not created because there are no variables in the graph to restore\n"
          ],
          "name": "stderr"
        },
        {
          "output_type": "stream",
          "text": [
            "INFO:tensorflow:Saver not created because there are no variables in the graph to restore\n"
          ],
          "name": "stdout"
        },
        {
          "output_type": "stream",
          "text": [
            "INFO:tensorflow:Saver not created because there are no variables in the graph to restore\n"
          ],
          "name": "stderr"
        },
        {
          "output_type": "stream",
          "text": [
            "INFO:tensorflow:Saver not created because there are no variables in the graph to restore\n"
          ],
          "name": "stdout"
        },
        {
          "output_type": "stream",
          "text": [
            "INFO:tensorflow:Saver not created because there are no variables in the graph to restore\n"
          ],
          "name": "stderr"
        },
        {
          "output_type": "stream",
          "text": [
            "INFO:tensorflow:Saver not created because there are no variables in the graph to restore\n"
          ],
          "name": "stdout"
        },
        {
          "output_type": "stream",
          "text": [
            "INFO:tensorflow:Saver not created because there are no variables in the graph to restore\n"
          ],
          "name": "stderr"
        },
        {
          "output_type": "stream",
          "text": [
            "INFO:tensorflow:Saver not created because there are no variables in the graph to restore\n"
          ],
          "name": "stdout"
        },
        {
          "output_type": "stream",
          "text": [
            "INFO:tensorflow:Saver not created because there are no variables in the graph to restore\n"
          ],
          "name": "stderr"
        },
        {
          "output_type": "stream",
          "text": [
            "INFO:tensorflow:Saver not created because there are no variables in the graph to restore\n"
          ],
          "name": "stdout"
        },
        {
          "output_type": "stream",
          "text": [
            "INFO:tensorflow:Saver not created because there are no variables in the graph to restore\n"
          ],
          "name": "stderr"
        },
        {
          "output_type": "stream",
          "text": [
            "INFO:tensorflow:Saver not created because there are no variables in the graph to restore\n"
          ],
          "name": "stdout"
        },
        {
          "output_type": "stream",
          "text": [
            "INFO:tensorflow:Saver not created because there are no variables in the graph to restore\n"
          ],
          "name": "stderr"
        },
        {
          "output_type": "stream",
          "text": [
            "INFO:tensorflow:Saver not created because there are no variables in the graph to restore\n"
          ],
          "name": "stdout"
        },
        {
          "output_type": "stream",
          "text": [
            "INFO:tensorflow:Saver not created because there are no variables in the graph to restore\n"
          ],
          "name": "stderr"
        },
        {
          "output_type": "stream",
          "text": [
            "INFO:tensorflow:Saver not created because there are no variables in the graph to restore\n"
          ],
          "name": "stdout"
        },
        {
          "output_type": "stream",
          "text": [
            "INFO:tensorflow:Saver not created because there are no variables in the graph to restore\n"
          ],
          "name": "stderr"
        },
        {
          "output_type": "stream",
          "text": [
            "(1186, 1024)\n",
            "(1186,)\n"
          ],
          "name": "stdout"
        }
      ]
    },
    {
      "cell_type": "markdown",
      "metadata": {
        "id": "_Jy16DeQDBVt"
      },
      "source": [
        "To ensure that our model's predictions are valid, we need to split our data into 2 parts: training and testing.<br>\n",
        "Because of it's nature, ML-algorithms have tendency to overfit on training data (which means that algorithm no longer 'predicts' class based on input but rather remembers that a particular input corresponds to a particular output).<br>\n",
        "Overfitting causes model to completely fail on any data not present in training set.<br>\n",
        "Separate (independent from training) data provides us with unbiased results to see 'real' performance."
      ]
    },
    {
      "cell_type": "code",
      "metadata": {
        "id": "Hs9YTqOTDBVt"
      },
      "source": [
        "def split_data(features, labels, ratio=0.7):\n",
        "    '''\n",
        "    Splits dataset into train/test parts using given ratio;\n",
        "    Parameters:\n",
        "        data    -   array of features;\n",
        "        labels  -   array of corresponding labels;\n",
        "        ratio   -   train/test size ratio;\n",
        "    Returns:\n",
        "        train_data      -   array of training features;   \n",
        "        train_labels    -   array of training labels; \n",
        "        test_data       -   array of testing features; \n",
        "        test_labels     -   array of testing labels; \n",
        "    '''    \n",
        "\n",
        "\n",
        "    positive_data = features[labels == 1] # all spam features\n",
        "    negative_data = features[labels == 0] # all legit features\n",
        "\n",
        "    # We shuffle arrays to get random samples later\n",
        "    random_indecies_positive = np.arange(positive_data.shape[0])\n",
        "    np.random.shuffle(random_indecies_positive)\n",
        "    random_indecies_negative = np.arange(negative_data.shape[0])\n",
        "    np.random.shuffle(random_indecies_negative)\n",
        "\n",
        "    n_positive_train = int(positive_data.shape[0] * ratio)\n",
        "    n_negative_train = int(negative_data.shape[0] * ratio)\n",
        "\n",
        "    # Training data are all indecies in 'ratio' part of shuffled indecies\n",
        "    train_data = np.concatenate([positive_data[random_indecies_positive[:n_positive_train]], \n",
        "                                negative_data[random_indecies_negative[:n_negative_train]]])\n",
        "    \n",
        "    train_labels = np.asarray([1] * n_positive_train + [0] * n_negative_train)\n",
        "\n",
        "    # Testing data are all indecies that remain\n",
        "    test_data = np.concatenate([positive_data[random_indecies_positive[n_positive_train:]], \n",
        "                                negative_data[random_indecies_negative[n_negative_train:]]])\n",
        "\n",
        "    test_labels = np.asarray([1] * (positive_data.shape[0]  - n_positive_train) + [0] * (negative_data.shape[0] - n_negative_train))\n",
        "\n",
        "    return train_data, train_labels, test_data, test_labels\n",
        "\n"
      ],
      "execution_count": 10,
      "outputs": []
    },
    {
      "cell_type": "markdown",
      "metadata": {
        "id": "KZvyzASODBVv"
      },
      "source": [
        "## Metrics\n",
        "To see how good (or bad) our spam detector works, we have to use some metrics. In assigment you are required to compare FAR and FRR of different algorithms.<br>\n",
        "FAR (False Acceptance Rate) - ratio of positive samples (spam in our case) wrongly predicted as negative (legitimate);<br>\n",
        "FRR (False Rejection Rate) - ratio of negative samples (legitimate) wrongly predicted as positive (spam);<br>\n",
        "These rates represent False Negative and False Positive Errors (you may also know them by names Type-1 Error and Type-2 Error)"
      ]
    },
    {
      "cell_type": "markdown",
      "metadata": {
        "id": "obPNoKhPDBVv"
      },
      "source": [
        "Your task is to compute FAR and FRR based on given true labels and predicted labels"
      ]
    },
    {
      "cell_type": "code",
      "metadata": {
        "id": "Ar_KiRTnDBVw"
      },
      "source": [
        "def get_metrics(labels, predictions):\n",
        "    '''\n",
        "    Computes metrics;\n",
        "    Parameters:\n",
        "        labels    -   array of labels;\n",
        "        predictions  -   array of predictions;\n",
        "    Returns:\n",
        "        FAR -   False Acceptance Rate;\n",
        "        FRR -   False Rejection Rate;\n",
        "    '''  \n",
        "    # add your code here\n",
        "    conf_matr = metrics.confusion_matrix(labels, predictions)\n",
        "    TN = conf_matr[0][0]\n",
        "    FP = conf_matr[0][1]\n",
        "    FN = conf_matr[1][0]\n",
        "    TP = conf_matr[1][1]\n",
        "    FAR = FN / (TP + FN)\n",
        "    FRR = FP / (FP + TN)\n",
        "\n",
        "    return FAR, FRR"
      ],
      "execution_count": 11,
      "outputs": []
    },
    {
      "cell_type": "markdown",
      "metadata": {
        "id": "9lK_ylf2DBVw"
      },
      "source": [
        "## Model initialization\n",
        "In this part we will create classifier and set it up. We will use Random Forest as example (note that in your assigment you must use all of given algorithms).<br>\n",
        "Note, that every algorithm has it's unique set of parameters (called hyperparameters).<br>\n",
        "Also, algorithms from <code>sklearn</code> library usualy have common methods <code>fit(X, Y)</code> and <code>predict(X)</code>."
      ]
    },
    {
      "cell_type": "code",
      "metadata": {
        "id": "MuncfIgaDBVx"
      },
      "source": [
        "classifierType = sklearn.ensemble.RandomForestClassifier\n",
        "hyperparameters = {'n_estimators' : 300,\n",
        "                'criterion' : 'gini',\n",
        "                'max_depth' : None,\n",
        "                'min_samples_split' : 4,\n",
        "                'min_samples_leaf': 1}"
      ],
      "execution_count": 27,
      "outputs": []
    },
    {
      "cell_type": "markdown",
      "metadata": {
        "id": "gymf6NQHDBVz"
      },
      "source": [
        "## First algorithm - Random Forest Classifier"
      ]
    },
    {
      "cell_type": "code",
      "metadata": {
        "id": "OrnOld_0DBV0"
      },
      "source": [
        "def evaluate(classifierType, hyperparameters, features, labels):\n",
        "    '''\n",
        "    Splits dataset into train/test parts using given ratio;\n",
        "    Parameters:\n",
        "        classifierType      -   type of ML algorithm to use;\n",
        "        hyperparameters     -   dictionary of model's parameters;\n",
        "        features            -   array of features;\n",
        "        labels              -   array of labels\n",
        "    Returns:\n",
        "        trainFAR    -   False Acceptance Rate for train dataset;\n",
        "        trainFRR    -   False Rejection Rate for train dataset;\n",
        "        testFAR     -   False Acceptance Rate for test dataset;\n",
        "        testFRR    -   False Rejection Rate for test dataset;\n",
        "    '''    \n",
        "\n",
        "    model = classifierType(**hyperparameters)\n",
        "\n",
        "    # Split data\n",
        "    train_data, test_data, train_labels, test_labels = train_test_split(features, labels)\n",
        "\n",
        "    print('Train set shape:', train_data.shape)\n",
        "    print('Train labels shape:', train_labels.shape)\n",
        "    print('Test set shape:', test_data.shape)\n",
        "    print('Test labels shape:', test_labels.shape)\n",
        "\n",
        "    # Fit your model\n",
        "    model.fit(train_data, train_labels)\n",
        "\n",
        "\n",
        "    # Make predictions for training dataset\n",
        "    predictions = model.predict(train_data)\n",
        "\n",
        "\n",
        "    # Compute train FAR/FRR\n",
        "    # add your code here\n",
        "    trainFAR, trainFRR = get_metrics(train_labels, predictions)\n",
        "\n",
        "    # Make predictions for testing dataset\n",
        "    # add your code here\n",
        "    predictions_test = model.predict(test_data)\n",
        "\n",
        "    # Compute test FAR/FRR\n",
        "    # add your code here\n",
        "    testFAR, testFRR = get_metrics(test_labels, predictions_test)\n",
        "\n",
        "    return trainFAR, trainFRR, testFAR, testFRR"
      ],
      "execution_count": 13,
      "outputs": []
    },
    {
      "cell_type": "code",
      "metadata": {
        "id": "1-ApsgKxDBV0",
        "colab": {
          "base_uri": "https://localhost:8080/"
        },
        "outputId": "55815414-a0e7-480e-b378-350321c4cbbe"
      },
      "source": [
        "# Check if it works :)\n",
        "trainFAR, trainFRR, testFAR, testFRR = evaluate(classifierType, hyperparameters, features, labels)\n",
        "print('Train:')\n",
        "print('\\tFAR:', trainFAR)\n",
        "print('\\tFRR:', trainFRR)\n",
        "\n",
        "print('Test:')\n",
        "print('\\tFAR:', testFAR)\n",
        "print('\\tFRR:', testFRR)"
      ],
      "execution_count": 28,
      "outputs": [
        {
          "output_type": "stream",
          "text": [
            "Train set shape: (889, 1024)\n",
            "Train labels shape: (889,)\n",
            "Test set shape: (297, 1024)\n",
            "Test labels shape: (297,)\n",
            "Train:\n",
            "\tFAR: 0.25961538461538464\n",
            "\tFRR: 0.011464968152866241\n",
            "Test:\n",
            "\tFAR: 0.2903225806451613\n",
            "\tFRR: 0.05639097744360902\n"
          ],
          "name": "stdout"
        }
      ]
    },
    {
      "cell_type": "markdown",
      "metadata": {
        "id": "hN_SzB9vGINW"
      },
      "source": [
        "# KNeighborsClassifier"
      ]
    },
    {
      "cell_type": "code",
      "metadata": {
        "id": "ZourTjC27XH2",
        "colab": {
          "base_uri": "https://localhost:8080/"
        },
        "outputId": "22955b71-d656-4862-ca11-4eb3d08aa7c0"
      },
      "source": [
        "hyperparams = { 'n_neighbors' : 5, \r\n",
        "               'weights':'uniform', \r\n",
        "               'algorithm' :'auto', \r\n",
        "               'leaf_size' : 30, \r\n",
        "               'p' : 2, \r\n",
        "               'metric' : 'minkowski', \r\n",
        "               'metric_params' : None, \r\n",
        "               'n_jobs' : None}\r\n",
        "trainFAR, trainFRR, testFAR, testFRR = evaluate(KNeighborsClassifier, hyperparams, features, labels)\r\n",
        "print('Train:')\r\n",
        "print('\\tFAR:', trainFAR)\r\n",
        "print('\\tFRR:', trainFRR)\r\n",
        "\r\n",
        "print('Test:')\r\n",
        "print('\\tFAR:', testFAR)\r\n",
        "print('\\tFRR:', testFRR)"
      ],
      "execution_count": 15,
      "outputs": [
        {
          "output_type": "stream",
          "text": [
            "Train set shape: (889, 1024)\n",
            "Train labels shape: (889,)\n",
            "Test set shape: (297, 1024)\n",
            "Test labels shape: (297,)\n",
            "Train:\n",
            "\tFAR: 0.12280701754385964\n",
            "\tFRR: 0.04516129032258064\n",
            "Test:\n",
            "\tFAR: 0.2857142857142857\n",
            "\tFRR: 0.04710144927536232\n"
          ],
          "name": "stdout"
        }
      ]
    },
    {
      "cell_type": "markdown",
      "metadata": {
        "id": "Js1AtF4BGVt1"
      },
      "source": [
        "# Logistic Regression"
      ]
    },
    {
      "cell_type": "code",
      "metadata": {
        "id": "IINP_7Ol_eXD",
        "colab": {
          "base_uri": "https://localhost:8080/"
        },
        "outputId": "5c33e224-f3b3-4501-ab3a-9f8811c869ef"
      },
      "source": [
        "hyperparams = {'C' : 1.0,\r\n",
        "               'class_weight' : None,\r\n",
        "               'dual' : False, \r\n",
        "               'fit_intercept' : True,\r\n",
        "               'intercept_scaling' : 1, \r\n",
        "               'l1_ratio' : None, \r\n",
        "               'max_iter' : 100,\r\n",
        "               'multi_class' : 'auto', \r\n",
        "               'n_jobs' : None, \r\n",
        "               'penalty' : 'l2',\r\n",
        "               'random_state' : None, \r\n",
        "               'solver' : 'lbfgs', \r\n",
        "               'tol' : 0.0001, \r\n",
        "               'verbose' : 0,\r\n",
        "               'warm_start' : False}\r\n",
        "trainFAR, trainFRR, testFAR, testFRR = evaluate(LogisticRegression, hyperparams, features, labels)\r\n",
        "print('Train:')\r\n",
        "print('\\tFAR:', trainFAR)\r\n",
        "print('\\tFRR:', trainFRR)\r\n",
        "\r\n",
        "print('Test:')\r\n",
        "print('\\tFAR:', testFAR)\r\n",
        "print('\\tFRR:', testFRR)"
      ],
      "execution_count": 16,
      "outputs": [
        {
          "output_type": "stream",
          "text": [
            "Train set shape: (889, 1024)\n",
            "Train labels shape: (889,)\n",
            "Test set shape: (297, 1024)\n",
            "Test labels shape: (297,)\n",
            "Train:\n",
            "\tFAR: 0.30434782608695654\n",
            "\tFRR: 0.013801756587202008\n",
            "Test:\n",
            "\tFAR: 0.3488372093023256\n",
            "\tFRR: 0.03543307086614173\n"
          ],
          "name": "stdout"
        },
        {
          "output_type": "stream",
          "text": [
            "/usr/local/lib/python3.6/dist-packages/sklearn/linear_model/_logistic.py:940: ConvergenceWarning: lbfgs failed to converge (status=1):\n",
            "STOP: TOTAL NO. of ITERATIONS REACHED LIMIT.\n",
            "\n",
            "Increase the number of iterations (max_iter) or scale the data as shown in:\n",
            "    https://scikit-learn.org/stable/modules/preprocessing.html\n",
            "Please also refer to the documentation for alternative solver options:\n",
            "    https://scikit-learn.org/stable/modules/linear_model.html#logistic-regression\n",
            "  extra_warning_msg=_LOGISTIC_SOLVER_CONVERGENCE_MSG)\n"
          ],
          "name": "stderr"
        }
      ]
    },
    {
      "cell_type": "markdown",
      "metadata": {
        "id": "ZEz55P8YDBV2"
      },
      "source": [
        "# Keras Sequential"
      ]
    },
    {
      "cell_type": "code",
      "metadata": {
        "id": "Dj4zVSvAwtmk"
      },
      "source": [
        "from keras.models import Sequential\r\n",
        "from keras.layers.core import Dense, Dropout, Activation\r\n",
        "from keras.optimizers import Adagrad\r\n",
        "from keras.utils import np_utils\r\n",
        "import keras.metrics"
      ],
      "execution_count": 17,
      "outputs": []
    },
    {
      "cell_type": "code",
      "metadata": {
        "colab": {
          "base_uri": "https://localhost:8080/"
        },
        "id": "VLtdABYzwuwB",
        "outputId": "78f4bca0-a5c2-4c4f-ca49-8097a9b173f9"
      },
      "source": [
        "num_classes = 2\r\n",
        "train_data, test_data, train_labels, test_labels = train_test_split(features, labels)\r\n",
        "print(\"train_data original shape\", train_data.shape)\r\n",
        "print(\"train_labels original shape\", train_labels.shape)"
      ],
      "execution_count": 18,
      "outputs": [
        {
          "output_type": "stream",
          "text": [
            "train_data original shape (889, 1024)\n",
            "train_labels original shape (889,)\n"
          ],
          "name": "stdout"
        }
      ]
    },
    {
      "cell_type": "code",
      "metadata": {
        "id": "jqANnzCOx00J"
      },
      "source": [
        "train_labels = np_utils.to_categorical(train_labels, num_classes)\r\n",
        "test_labels = np_utils.to_categorical(test_labels, num_classes)"
      ],
      "execution_count": 19,
      "outputs": []
    },
    {
      "cell_type": "code",
      "metadata": {
        "id": "fctaNojYyEBm"
      },
      "source": [
        "BATCH_SIZE = 32\r\n",
        "EPOCHS = 10"
      ],
      "execution_count": 20,
      "outputs": []
    },
    {
      "cell_type": "code",
      "metadata": {
        "id": "PZBrq5kGyFQG"
      },
      "source": [
        "model_3_layers = Sequential()\r\n",
        "model_3_layers.add(Dense(150, input_shape=(1024,)))\r\n",
        "model_3_layers.add(Activation('tanh'))\r\n",
        "model_3_layers.add(Dense(100))\r\n",
        "model_3_layers.add(Activation('tanh'))\r\n",
        "model_3_layers.add(Dense(2))\r\n",
        "model_3_layers.add(Activation('softmax'))\r\n",
        "model_3_layers.compile(Adagrad(lr=0.01),loss='binary_crossentropy', metrics=['accuracy', 'FalsePositives','FalseNegatives','TruePositives','TrueNegatives'])"
      ],
      "execution_count": 21,
      "outputs": []
    },
    {
      "cell_type": "code",
      "metadata": {
        "colab": {
          "base_uri": "https://localhost:8080/"
        },
        "id": "UnZiZFYNyv0M",
        "outputId": "02311ba4-1108-4242-c111-ff204c5e5110"
      },
      "source": [
        "history_model = model_3_layers.fit(train_data, train_labels, batch_size=BATCH_SIZE, steps_per_epoch=889//BATCH_SIZE, epochs=EPOCHS, validation_data=(test_data, test_labels))"
      ],
      "execution_count": 22,
      "outputs": [
        {
          "output_type": "stream",
          "text": [
            "WARNING:tensorflow:When passing input data as arrays, do not specify `steps_per_epoch`/`steps` argument. Please use `batch_size` instead.\n"
          ],
          "name": "stdout"
        },
        {
          "output_type": "stream",
          "text": [
            "WARNING:tensorflow:When passing input data as arrays, do not specify `steps_per_epoch`/`steps` argument. Please use `batch_size` instead.\n"
          ],
          "name": "stderr"
        },
        {
          "output_type": "stream",
          "text": [
            "WARNING:tensorflow:From /usr/local/lib/python3.6/dist-packages/tensorflow/python/keras/optimizer_v2/adagrad.py:83: calling Constant.__init__ (from tensorflow.python.ops.init_ops) with dtype is deprecated and will be removed in a future version.\n",
            "Instructions for updating:\n",
            "Call initializer instance with the dtype argument instead of passing it to the constructor\n"
          ],
          "name": "stdout"
        },
        {
          "output_type": "stream",
          "text": [
            "WARNING:tensorflow:From /usr/local/lib/python3.6/dist-packages/tensorflow/python/keras/optimizer_v2/adagrad.py:83: calling Constant.__init__ (from tensorflow.python.ops.init_ops) with dtype is deprecated and will be removed in a future version.\n",
            "Instructions for updating:\n",
            "Call initializer instance with the dtype argument instead of passing it to the constructor\n"
          ],
          "name": "stderr"
        },
        {
          "output_type": "stream",
          "text": [
            "Train on 27 samples, validate on 297 samples\n",
            "Epoch 1/10\n",
            "25/27 [==========================>...] - ETA: 0s - batch: 12.0000 - size: 1.0000 - loss: 0.3566 - accuracy: 0.8754 - FalsePositives: 2770.0000 - FalseNegatives: 2770.0000 - TruePositives: 19455.0000 - TrueNegatives: 19455.0000"
          ],
          "name": "stdout"
        },
        {
          "output_type": "stream",
          "text": [
            "/usr/local/lib/python3.6/dist-packages/tensorflow/python/keras/engine/training.py:2325: UserWarning: `Model.state_updates` will be removed in a future version. This property should not be used in TensorFlow 2.0, as `updates` are applied automatically.\n",
            "  warnings.warn('`Model.state_updates` will be removed in a future version. '\n"
          ],
          "name": "stderr"
        },
        {
          "output_type": "stream",
          "text": [
            "27/27 [==============================] - 1s 44ms/step - batch: 13.0000 - size: 1.0000 - loss: 0.3528 - accuracy: 0.8767 - FalsePositives: 2960.0000 - FalseNegatives: 2960.0000 - TruePositives: 21043.0000 - TrueNegatives: 21043.0000 - val_loss: 0.3492 - val_accuracy: 0.8653 - val_FalsePositives: 40.0000 - val_FalseNegatives: 40.0000 - val_TruePositives: 257.0000 - val_TrueNegatives: 257.0000\n",
            "Epoch 2/10\n",
            "27/27 [==============================] - 0s 15ms/step - batch: 13.0000 - size: 1.0000 - loss: 0.2886 - accuracy: 0.8931 - FalsePositives: 2565.0000 - FalseNegatives: 2565.0000 - TruePositives: 21438.0000 - TrueNegatives: 21438.0000 - val_loss: 0.3169 - val_accuracy: 0.8653 - val_FalsePositives: 40.0000 - val_FalseNegatives: 40.0000 - val_TruePositives: 257.0000 - val_TrueNegatives: 257.0000\n",
            "Epoch 3/10\n",
            "27/27 [==============================] - 0s 16ms/step - batch: 13.0000 - size: 1.0000 - loss: 0.2643 - accuracy: 0.8931 - FalsePositives: 2565.0000 - FalseNegatives: 2565.0000 - TruePositives: 21438.0000 - TrueNegatives: 21438.0000 - val_loss: 0.2920 - val_accuracy: 0.8653 - val_FalsePositives: 40.0000 - val_FalseNegatives: 40.0000 - val_TruePositives: 257.0000 - val_TrueNegatives: 257.0000\n",
            "Epoch 4/10\n",
            "27/27 [==============================] - 0s 15ms/step - batch: 13.0000 - size: 1.0000 - loss: 0.2434 - accuracy: 0.8938 - FalsePositives: 2550.0000 - FalseNegatives: 2550.0000 - TruePositives: 21453.0000 - TrueNegatives: 21453.0000 - val_loss: 0.2708 - val_accuracy: 0.8687 - val_FalsePositives: 39.0000 - val_FalseNegatives: 39.0000 - val_TruePositives: 258.0000 - val_TrueNegatives: 258.0000\n",
            "Epoch 5/10\n",
            "27/27 [==============================] - 0s 16ms/step - batch: 13.0000 - size: 1.0000 - loss: 0.2243 - accuracy: 0.8963 - FalsePositives: 2490.0000 - FalseNegatives: 2490.0000 - TruePositives: 21513.0000 - TrueNegatives: 21513.0000 - val_loss: 0.2519 - val_accuracy: 0.8822 - val_FalsePositives: 35.0000 - val_FalseNegatives: 35.0000 - val_TruePositives: 262.0000 - val_TrueNegatives: 262.0000\n",
            "Epoch 6/10\n",
            "27/27 [==============================] - 0s 15ms/step - batch: 13.0000 - size: 1.0000 - loss: 0.2066 - accuracy: 0.9116 - FalsePositives: 2121.0000 - FalseNegatives: 2121.0000 - TruePositives: 21882.0000 - TrueNegatives: 21882.0000 - val_loss: 0.2351 - val_accuracy: 0.8855 - val_FalsePositives: 34.0000 - val_FalseNegatives: 34.0000 - val_TruePositives: 263.0000 - val_TrueNegatives: 263.0000\n",
            "Epoch 7/10\n",
            "27/27 [==============================] - 0s 15ms/step - batch: 13.0000 - size: 1.0000 - loss: 0.1905 - accuracy: 0.9189 - FalsePositives: 1946.0000 - FalseNegatives: 1946.0000 - TruePositives: 22057.0000 - TrueNegatives: 22057.0000 - val_loss: 0.2201 - val_accuracy: 0.9024 - val_FalsePositives: 29.0000 - val_FalseNegatives: 29.0000 - val_TruePositives: 268.0000 - val_TrueNegatives: 268.0000\n",
            "Epoch 8/10\n",
            "27/27 [==============================] - 0s 16ms/step - batch: 13.0000 - size: 1.0000 - loss: 0.1760 - accuracy: 0.9320 - FalsePositives: 1633.0000 - FalseNegatives: 1633.0000 - TruePositives: 22370.0000 - TrueNegatives: 22370.0000 - val_loss: 0.2071 - val_accuracy: 0.9057 - val_FalsePositives: 28.0000 - val_FalseNegatives: 28.0000 - val_TruePositives: 269.0000 - val_TrueNegatives: 269.0000\n",
            "Epoch 9/10\n",
            "27/27 [==============================] - 0s 16ms/step - batch: 13.0000 - size: 1.0000 - loss: 0.1635 - accuracy: 0.9380 - FalsePositives: 1489.0000 - FalseNegatives: 1489.0000 - TruePositives: 22514.0000 - TrueNegatives: 22514.0000 - val_loss: 0.1960 - val_accuracy: 0.9158 - val_FalsePositives: 25.0000 - val_FalseNegatives: 25.0000 - val_TruePositives: 272.0000 - val_TrueNegatives: 272.0000\n",
            "Epoch 10/10\n",
            "27/27 [==============================] - 0s 16ms/step - batch: 13.0000 - size: 1.0000 - loss: 0.1528 - accuracy: 0.9436 - FalsePositives: 1354.0000 - FalseNegatives: 1354.0000 - TruePositives: 22649.0000 - TrueNegatives: 22649.0000 - val_loss: 0.1867 - val_accuracy: 0.9158 - val_FalsePositives: 25.0000 - val_FalseNegatives: 25.0000 - val_TruePositives: 272.0000 - val_TrueNegatives: 272.0000\n"
          ],
          "name": "stdout"
        }
      ]
    },
    {
      "cell_type": "code",
      "metadata": {
        "colab": {
          "base_uri": "https://localhost:8080/",
          "height": 350
        },
        "id": "4YkOyV_N2_Nu",
        "outputId": "c00a466e-875b-4e18-e00d-cef5300e9035"
      },
      "source": [
        "import matplotlib.pyplot as plt\r\n",
        "\r\n",
        "fig, ax = plt.subplots(1, 2, figsize=(15,5))\r\n",
        "\r\n",
        "ax[0].plot(history_model.history['loss'])\r\n",
        "ax[0].plot(history_model.history['val_loss'])\r\n",
        "ax[0].legend(['loss', 'val_loss'])\r\n",
        "ax[0].set_title('Loss')\r\n",
        "ax[0].set(xlabel='epoch')\r\n",
        "\r\n",
        "ax[1].plot(history_model.history['accuracy'])\r\n",
        "ax[1].plot(history_model.history['val_accuracy'])\r\n",
        "ax[1].legend(['accuracy', 'val_accuracy'])\r\n",
        "ax[1].set_title('Accuracy')\r\n",
        "ax[1].set(xlabel='epoch')\r\n",
        "\r\n",
        "plt.show()"
      ],
      "execution_count": 23,
      "outputs": [
        {
          "output_type": "display_data",
          "data": {
            "image/png": "[encoded data removed]",
            "text/plain": [
              "<Figure size 1080x360 with 2 Axes>"
            ]
          },
          "metadata": {
            "tags": [],
            "needs_background": "light"
          }
        }
      ]
    },
    {
      "cell_type": "code",
      "metadata": {
        "colab": {
          "base_uri": "https://localhost:8080/"
        },
        "id": "x3NGq1RT_4WJ",
        "outputId": "f1711d63-4ed8-488a-fdd9-6749329754df"
      },
      "source": [
        "FP = min(history_model.history['FalsePositives'])\r\n",
        "FN = min(history_model.history['FalseNegatives'])\r\n",
        "TN = min(history_model.history['TrueNegatives'])\r\n",
        "TP = min(history_model.history['TruePositives'])\r\n",
        "FAR = FN / (TP + FN)\r\n",
        "FRR = FP / (FP + TN)\r\n",
        "print('FAR: ', FAR * 100,'%')\r\n",
        "print('FRR: ', FRR * 100, '%')"
      ],
      "execution_count": 24,
      "outputs": [
        {
          "output_type": "stream",
          "text": [
            "FAR:  6.045452505350113 %\n",
            "FRR:  6.045452505350113 %\n"
          ],
          "name": "stdout"
        }
      ]
    }
  ]
}