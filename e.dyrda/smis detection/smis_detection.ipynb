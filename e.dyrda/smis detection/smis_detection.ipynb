{
 "cells": [
  {
   "cell_type": "markdown",
   "metadata": {},
   "source": [
    "# SMiShing attack detection using ML-approach (_Random Forest_) and DeepLearningML-approaches (_LSTM_ & _Bidirectional LSTM_)\n"
   ]
  },
  {
   "cell_type": "markdown",
   "metadata": {},
   "source": [
    "Import _packages_:"
   ]
  },
  {
   "cell_type": "code",
   "execution_count": 1,
   "metadata": {},
   "outputs": [],
   "source": [
    "from IPython.display import display\n",
    "\n",
    "# import libraries for reading data, exploring and plotting\n",
    "import numpy as np\n",
    "import pandas as pd\n",
    "\n",
    "# library for train test split\n",
    "from sklearn.model_selection import train_test_split\n",
    "# deep learning libraries for text pre-processing\n",
    "import tensorflow as tf\n",
    "from tensorflow.keras.preprocessing.text import Tokenizer\n",
    "from tensorflow.keras.preprocessing.sequence import pad_sequences\n",
    "# Modeling \n",
    "from sklearn.ensemble import RandomForestClassifier\n",
    "from sklearn.metrics import confusion_matrix\n",
    "from tensorflow.keras.callbacks import EarlyStopping\n",
    "from tensorflow.keras.models import Sequential\n",
    "from tensorflow.keras.layers import Embedding, Dense, LSTM, Bidirectional\n",
    "import tensorflow.keras.metrics \n",
    "from keras.wrappers.scikit_learn import KerasClassifier"
   ]
  },
  {
   "cell_type": "markdown",
   "metadata": {},
   "source": [
    "Declare _variables_:"
   ]
  },
  {
   "cell_type": "code",
   "execution_count": 2,
   "metadata": {},
   "outputs": [],
   "source": [
    "#constants\n",
    "\n",
    "max_len = 1\n",
    "trunc_type = \"post\" \n",
    "padding_type = \"post\" \n",
    "vocab_size = 2082\n",
    "embeding_dim = 16 \n",
    "e = 1000\n",
    "n_lstm = 20\n",
    "drop_lstm =0.2"
   ]
  },
  {
   "cell_type": "markdown",
   "metadata": {},
   "source": [
    "Now we transform messages into vectors that will be used in further training of the model:"
   ]
  },
  {
   "cell_type": "code",
   "execution_count": 3,
   "metadata": {},
   "outputs": [],
   "source": [
    "messages = pd.read_csv('data.txt', sep ='\\t',names=[\"label\", \"message\"])\n",
    "messages.groupby('label').describe().T\n",
    "\n",
    "\n",
    "ham_msg = messages[messages.label =='LEGI']\n",
    "spam_msg = messages[messages.label=='SPAM']\n",
    "smis_msg = messages[messages.label=='SMIS']\n",
    "\n",
    "ham_msg_text = \" \".join(ham_msg.message.to_numpy().tolist())\n",
    "spam_msg_text = \" \".join(spam_msg.message.to_numpy().tolist())\n",
    "smis_msg_text = \" \".join(smis_msg.message.to_numpy().tolist())\n",
    "\n",
    "\n",
    "msg_df = ham_msg.append(smis_msg).append(spam_msg).reset_index(drop=True)\n",
    "msg_df['text_length'] = msg_df['message'].apply(len)\n",
    "labels = msg_df.groupby('label').mean()\n",
    "\n",
    "\n",
    "msg_df['msg_type']= msg_df['label'].map({'LEGI': 0,'SPAM': 0, 'SMIS': 1})\n",
    "msg_label = msg_df['msg_type'].values\n",
    "X_train, X_test, y_train, y_test = train_test_split(msg_df['message'], msg_label, test_size=0.05, random_state=434)\n",
    "\n"
   ]
  },
  {
   "cell_type": "code",
   "execution_count": 4,
   "metadata": {},
   "outputs": [],
   "source": [
    "tokenizer = Tokenizer(num_words = vocab_size, char_level=False)\n",
    "tokenizer.fit_on_texts(X_train)\n",
    " \n",
    "training_sequences = tokenizer.texts_to_sequences(X_train)\n",
    "training_padded = pad_sequences (training_sequences, maxlen = max_len, padding = padding_type, truncating = trunc_type )\n",
    "testing_sequences = tokenizer.texts_to_sequences(X_test)\n",
    "testing_padded = pad_sequences(testing_sequences, maxlen = max_len, padding = padding_type, truncating = trunc_type)"
   ]
  },
  {
   "cell_type": "markdown",
   "metadata": {},
   "source": [
    "Now we can create and fit ML models for smishing detection."
   ]
  },
  {
   "cell_type": "markdown",
   "metadata": {},
   "source": [
    " ## LSTM "
   ]
  },
  {
   "cell_type": "markdown",
   "metadata": {},
   "source": [
    "First type of models based on DeepLearning is [LSTM](https://en.wikipedia.org/wiki/Long_short-term_memory)."
   ]
  },
  {
   "cell_type": "code",
   "execution_count": 5,
   "metadata": {},
   "outputs": [
    {
     "name": "stdout",
     "output_type": "stream",
     "text": [
      "Model: \"sequential\"\n",
      "_________________________________________________________________\n",
      "Layer (type)                 Output Shape              Param #   \n",
      "=================================================================\n",
      "embedding (Embedding)        (None, 1, 16)             33312     \n",
      "_________________________________________________________________\n",
      "lstm (LSTM)                  (None, 1, 20)             2960      \n",
      "_________________________________________________________________\n",
      "lstm_1 (LSTM)                (None, 1, 20)             3280      \n",
      "_________________________________________________________________\n",
      "dense (Dense)                (None, 1, 1)              21        \n",
      "=================================================================\n",
      "Total params: 39,573\n",
      "Trainable params: 39,573\n",
      "Non-trainable params: 0\n",
      "_________________________________________________________________\n"
     ]
    },
    {
     "data": {
      "text/plain": [
       "'========================================LSTM========================================'"
      ]
     },
     "metadata": {},
     "output_type": "display_data"
    },
    {
     "name": "stdout",
     "output_type": "stream",
     "text": [
      "FAR:  22.22222222222222 %\n",
      "FRR:  0.0 %\n"
     ]
    }
   ],
   "source": [
    "#==========================================================LSTM==========================================================\n",
    "\n",
    "model = Sequential()\n",
    "model.add (Embedding (vocab_size, embeding_dim, input_length = max_len)) \n",
    "model.add (LSTM (n_lstm, dropout = drop_lstm, return_sequences = True)) \n",
    "model.add (LSTM (n_lstm, dropout = drop_lstm, return_sequences = True)) \n",
    "model.add(Dense(max_len, activation='sigmoid'))\n",
    "model.summary()\n",
    "\n",
    "\n",
    "\n",
    "model.compile(optimizer=\"adam\",\n",
    "              loss=\"binary_crossentropy\",\n",
    "              metrics=['accuracy','FalsePositives','FalseNegatives','TruePositives','TrueNegatives'])\n",
    "\n",
    "\n",
    "display('='* 40 + 'LSTM' + '=' * 40)\n",
    "\n",
    "\n",
    "history = model.fit(training_padded, y_train, epochs=e, validation_data=(testing_padded, y_test), verbose=0)\n",
    "\n",
    "\n",
    "\n",
    "best_fp_score = min(history.history['val_false_positives'])\n",
    "best_fn_score = min(history.history['val_false_negatives'])\n",
    "FRR = best_fp_score / (best_fp_score + max(history.history['val_true_negatives']))\n",
    "FAR = best_fn_score / (best_fn_score + max(history.history['val_true_positives']))\n",
    "print('FAR: ', FAR * 100,'%')\n",
    "print('FRR: ', FRR * 100, '%')"
   ]
  },
  {
   "cell_type": "markdown",
   "metadata": {},
   "source": [
    "## Bidirectional LSTM"
   ]
  },
  {
   "cell_type": "markdown",
   "metadata": {},
   "source": [
    "Bidirectional LSTM differs from LSTM in that Bidirectional examines patterns both before and after a given token in the document. Due to this, the computation time is increased compared to the LSTM. However, in most cases B-LSTM gives the best accuracy."
   ]
  },
  {
   "cell_type": "code",
   "execution_count": 6,
   "metadata": {},
   "outputs": [
    {
     "data": {
      "text/plain": [
       "'========================================Bidirectional LSTM========================================'"
      ]
     },
     "metadata": {},
     "output_type": "display_data"
    },
    {
     "name": "stdout",
     "output_type": "stream",
     "text": [
      "FAR:  27.77777777777778 %\n",
      "FRR:  0.0 %\n"
     ]
    }
   ],
   "source": [
    "#==========================================================Bidirectional LSTM==========================================================\n",
    "\n",
    "model1 = Sequential()\n",
    "model1.add(Embedding(vocab_size, embeding_dim, input_length=max_len))\n",
    "model1.add(Bidirectional(LSTM(n_lstm, dropout=drop_lstm, return_sequences=True)))\n",
    "model1.add(Dense(max_len, activation='sigmoid'))\n",
    "\n",
    "model1.compile(loss = 'binary_crossentropy', optimizer = 'nadam', metrics=['FalsePositives','FalseNegatives','TruePositives','TrueNegatives'])\n",
    "\n",
    "display('=' * 40 + 'Bidirectional LSTM' + '=' * 40)\n",
    "\n",
    "\n",
    "history1 = model1.fit(training_padded, y_train, epochs=e, validation_data=(testing_padded, y_test), verbose=0)\n",
    "best_fp_score1 = min(history1.history['val_false_positives'])\n",
    "best_fn_score1 = min(history1.history['val_false_negatives'])\n",
    "FRR1 = best_fp_score1 / (best_fp_score1 + max(history1.history['val_true_negatives']))\n",
    "FAR1 = best_fn_score1 / (best_fn_score1 + max(history1.history['val_true_positives']))\n",
    "print('FAR: ', FAR1 * 100,'%')\n",
    "print('FRR: ', FRR1 * 100, '%')"
   ]
  },
  {
   "cell_type": "markdown",
   "metadata": {},
   "source": [
    "## Random Forest Classifier"
   ]
  },
  {
   "cell_type": "markdown",
   "metadata": {},
   "source": [
    "One of the machine learning algorithms presented in sklearn is [Random Forest](https://habr.com/ru/post/320726/)."
   ]
  },
  {
   "cell_type": "code",
   "execution_count": 7,
   "metadata": {},
   "outputs": [
    {
     "data": {
      "text/plain": [
       "'========================================RFC========================================'"
      ]
     },
     "metadata": {},
     "output_type": "display_data"
    },
    {
     "name": "stdout",
     "output_type": "stream",
     "text": [
      "FAR:  22.22222222222222 %\n",
      "FRR:  9.195402298850574 %\n"
     ]
    }
   ],
   "source": [
    "#==========================================================RFT==========================================================\n",
    "\n",
    "display('='* 40 + 'RFC' + '=' * 40)\n",
    "\n",
    "m = RandomForestClassifier(n_estimators = 2082)\n",
    "h = m.fit(training_padded,y_train)\n",
    "y_test_pred = m.predict(testing_padded)\n",
    "tn, fp, fn, tp = confusion_matrix(y_test, y_test_pred).ravel()\n",
    "frr = fp / (fp + tn)\n",
    "far = fn / (fn + tp)\n",
    "print('FAR: ', far*100, '%')\n",
    "print('FRR: ', frr*100, '%')"
   ]
  }
 ],
 "metadata": {
  "anaconda-cloud": {},
  "kernelspec": {
   "display_name": "Python 3",
   "language": "python",
   "name": "python3"
  },
  "language_info": {
   "codemirror_mode": {
    "name": "ipython",
    "version": 3
   },
   "file_extension": ".py",
   "mimetype": "text/x-python",
   "name": "python",
   "nbconvert_exporter": "python",
   "pygments_lexer": "ipython3",
   "version": "3.8.7"
  }
 },
 "nbformat": 4,
 "nbformat_minor": 4
}
