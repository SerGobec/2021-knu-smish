{
 "metadata": {
  "language_info": {
   "codemirror_mode": {
    "name": "ipython",
    "version": 3
   },
   "file_extension": ".py",
   "mimetype": "text/x-python",
   "name": "python",
   "nbconvert_exporter": "python",
   "pygments_lexer": "ipython3",
   "version": "3.7.6-final"
  },
  "orig_nbformat": 2,
  "kernelspec": {
   "name": "python3",
   "display_name": "Python 3",
   "language": "python"
  }
 },
 "nbformat": 4,
 "nbformat_minor": 2,
 "cells": [
  {
   "cell_type": "code",
   "execution_count": 1,
   "metadata": {},
   "outputs": [],
   "source": [
    "\n",
    "\n",
    "import tensorflow_hub as hub\n",
    "import tensorflow.compat.v1 as tf\n",
    "tf.disable_eager_execution()\n",
    "import numpy as np\n",
    "import pandas as pd\n",
    "import sklearn\n",
    "from sklearn.ensemble import RandomForestClassifier\n",
    "from sklearn.metrics import confusion_matrix\n",
    "from sklearn import svm\n",
    "from sklearn.model_selection import GridSearchCV\n",
    "from sklearn.naive_bayes import MultinomialNB\n",
    "from sklearn.svm import SVC\n",
    "from sklearn.model_selection import train_test_split\n",
    "from sklearn.feature_extraction.text import CountVectorizer\n",
    "from sklearn.feature_extraction.text import TfidfVectorizer\n",
    "from sklearn.metrics import roc_auc_score\n",
    "from scipy.sparse import csr_matrix, hstack\n",
    "from sklearn.linear_model import LogisticRegression\n"
   ]
  },
  {
   "cell_type": "code",
   "execution_count": 2,
   "metadata": {},
   "outputs": [
    {
     "output_type": "stream",
     "name": "stdout",
     "text": [
      "Total size: 1540\nLegit messages: 1050\nSpam messages: 190\nSmishing messages: 300\n"
     ]
    }
   ],
   "source": [
    "DATA_PATH = \"data.txt\"\n",
    "COLUMN_LABEL = \"class\"\n",
    "COLUMN_TEXT = \"context\"\n",
    "\n",
    "LABEL_LEGIT = 'LEGI'\n",
    "LABEL_SPAM = 'SPAM'\n",
    "LABEL_SMISHING = 'SMIS'\n",
    "\n",
    "dataset = pd.read_csv(DATA_PATH, sep='\\t', names=[COLUMN_LABEL, COLUMN_TEXT], header=None)\n",
    "print('Total size:', dataset.shape[0])\n",
    "print('Legit messages:', dataset[dataset[COLUMN_LABEL] == LABEL_LEGIT].shape[0])\n",
    "print('Spam messages:', dataset[dataset[COLUMN_LABEL] == LABEL_SPAM].shape[0])\n",
    "print('Smishing messages:', dataset[dataset[COLUMN_LABEL] == LABEL_SMISHING].shape[0])\n",
    "\n",
    "dataset = dataset[((dataset[COLUMN_LABEL] == LABEL_LEGIT) | (dataset[COLUMN_LABEL] == LABEL_SMISHING))]\n",
    "\n",
    "\n",
    "\n",
    "def convert_labels(labels_raw):\n",
    "\n",
    "    labels = np.array([(0 if i==\"LEGI\" else 1) for i in labels_raw ])\n",
    "    return labels\n",
    "\n",
    "labels = convert_labels(dataset[COLUMN_LABEL])"
   ]
  },
  {
   "cell_type": "code",
   "execution_count": 3,
   "metadata": {},
   "outputs": [
    {
     "output_type": "stream",
     "name": "stdout",
     "text": [
      "train length:  1080\ntest length:  270\n"
     ]
    }
   ],
   "source": [
    "#new data preprocessing\n",
    "#new \"split\" for new data preprocessing !!!!!!!!!!!!!!!!!!!!!!!!!!!!!!!!!!!!!!!!!!!!!!!!!!!!!!!!!!!!!!!!!!!!!\n",
    "\n",
    "X_train, X_test, y_train, y_test = train_test_split(dataset['context'], \n",
    "                                                    labels, \n",
    "                                                    test_size=0.2,\n",
    "                                                     random_state=42\n",
    "                                                    )\n",
    "\n",
    "print(\"train length: \", len(X_train))\n",
    "print(\"test length: \", len(X_test))"
   ]
  },
  {
   "cell_type": "code",
   "execution_count": 4,
   "metadata": {},
   "outputs": [],
   "source": [
    "\n",
    "\n",
    "def get_metrics(labels, predictions):\n",
    "\n",
    "    tn, fp, fn, tp = confusion_matrix(labels, predictions).ravel()\n",
    "    FAR = fn/(fn+tp)\n",
    "    FRR = fp/(fp+tn)\n",
    "    return FAR*100, FRR*100\n",
    "\n",
    "\n",
    "\n",
    "    "
   ]
  },
  {
   "cell_type": "code",
   "execution_count": 11,
   "metadata": {},
   "outputs": [
    {
     "output_type": "stream",
     "name": "stdout",
     "text": [
      " NB (CountVectorizer)\n",
      "Test:\n",
      "\tFAR: 0.0\n",
      "\tFRR: 0.0\n",
      " general score: 1.0\n",
      "\n",
      "True Positives: 62\n",
      "False Positives: 0\n",
      "True Negatives: 208\n",
      "False Negatives: 0\n",
      "\n",
      "SVC n-grams\n",
      "Test:\n",
      "\tFAR: 1.6129032258064515\n",
      "\tFRR: 0.0\n",
      " general score: 0.9919354838709677\n",
      "\n",
      "RFC n-grams\n",
      "Test:\n",
      "\tFAR: 9.67741935483871\n",
      "\tFRR: 0.0\n",
      " general score: 0.9516129032258065\n"
     ]
    }
   ],
   "source": [
    "print(\" NB (CountVectorizer)\")\n",
    "\n",
    "vect = CountVectorizer(ngram_range=[1,2]).fit(X_train)#it shows score 0.996 with 1-gram\n",
    "X_train_vectorized = vect.transform(X_train)\n",
    "\n",
    "model = MultinomialNB(alpha=0.1)\n",
    "model_fit = model.fit(X_train_vectorized, y_train)\n",
    "predictions = model.predict(vect.transform(X_test))\n",
    "testFAR, testFRR = get_metrics(y_test, predictions)\n",
    "print('Test:')\n",
    "print('\\tFAR:', testFAR)\n",
    "print('\\tFRR:', testFRR)\n",
    "aucscore = roc_auc_score(y_test, predictions)\n",
    "\n",
    "print(\" general score:\", aucscore)\n",
    "\n",
    "tn, fp, fn, tp = confusion_matrix(y_test, predictions).ravel()\n",
    "print(f'\\nTrue Positives: {tp}')\n",
    "print(f'False Positives: {fp}')\n",
    "print(f'True Negatives: {tn}')\n",
    "print(f'False Negatives: {fn}')\n",
    "\n",
    "\n",
    "\n",
    "#apperantly it worked as good as logistic regression \n",
    "\n",
    "print(\"\\nSVC n-grams\")\n",
    "clfsvc = SVC(**{'C': 10, 'gamma': 0.002, 'kernel': 'rbf'})\n",
    "clfsvc.fit(X_train_vectorized, y_train)\n",
    "predictions = clfsvc.predict(vect.transform(X_test))\n",
    "testFAR, testFRR = get_metrics(y_test, predictions)\n",
    "print('Test:')\n",
    "print('\\tFAR:', testFAR)\n",
    "print('\\tFRR:', testFRR)\n",
    "aucscore = roc_auc_score(y_test, predictions)\n",
    "\n",
    "print(\" general score:\", aucscore)\n",
    "\n",
    "\n",
    "print(\"\\nRFC n-grams\")\n",
    "clfrfc = RandomForestClassifier(max_depth = None, n_estimators = 160)\n",
    "clfrfc.fit(X_train_vectorized, y_train)\n",
    "predictions = clfrfc.predict(vect.transform(X_test))\n",
    "testFAR, testFRR = get_metrics(y_test, predictions)\n",
    "print('Test:')\n",
    "print('\\tFAR:', testFAR)\n",
    "print('\\tFRR:', testFRR)\n",
    "aucscore = roc_auc_score(y_test, predictions)\n",
    "\n",
    "print(\" general score:\", aucscore)\n"
   ]
  },
  {
   "cell_type": "code",
   "execution_count": 12,
   "metadata": {},
   "outputs": [
    {
     "output_type": "stream",
     "name": "stdout",
     "text": [
      " NB (TfidfVectorizer)\nTest:\n\tFAR: 14.516129032258066\n\tFRR: 0.0\n\nTrue Positives: 53\nFalse Positives: 0\nTrue Negatives: 208\nFalse Negatives: 9\n"
     ]
    }
   ],
   "source": [
    "print(\" NB (TfidfVectorizer)\")\n",
    "vect = TfidfVectorizer(min_df=2).fit(X_train)\n",
    "X_train_vectorized = vect.transform(X_train)\n",
    "model = sklearn.naive_bayes.MultinomialNB()\n",
    "model_fit = model.fit(X_train_vectorized, y_train)\n",
    "\n",
    "predictions = model_fit.predict(vect.transform(X_test))\n",
    "testFAR, testFRR = get_metrics(y_test, predictions)\n",
    "print('Test:')\n",
    "print('\\tFAR:', testFAR)\n",
    "print('\\tFRR:', testFRR)\n",
    "#proof\n",
    "tn, fp, fn, tp = confusion_matrix(y_test, predictions).ravel()\n",
    "print(f'\\nTrue Positives: {tp}')\n",
    "print(f'False Positives: {fp}')\n",
    "print(f'True Negatives: {tn}')\n",
    "print(f'False Negatives: {fn}')\n",
    "\n",
    "\n",
    "\n"
   ]
  },
  {
   "cell_type": "code",
   "execution_count": 13,
   "metadata": {},
   "outputs": [
    {
     "output_type": "stream",
     "name": "stdout",
     "text": [
      "LogisticRegression!!!!!!!!!!!!!!!!!!!!!!!!!!!!!!!!!!!!\nTest:\n\tFAR: 0.0\n\tFRR: 0.0\n general score: 1.0\n\nNB with n-grams :\nTest:\n\tFAR: 6.451612903225806\n\tFRR: 0.4807692307692308\n"
     ]
    }
   ],
   "source": [
    "#usage of the n-grams was the best intuitive idea due to the short form of masseges, adress form of text which can be \n",
    "# subjectively divided only with more then one word (click on,  you should, your bank..., the ... (talking about 3rd objects in \n",
    "# dialogue), ) but it didn't worked that good with nb. Everything got better when it's a weight-length part added to the features\n",
    "def add_feature(X, feature_to_add):   \n",
    "    return hstack([X, csr_matrix(feature_to_add).T], 'csr')\n",
    "print(\"LogisticRegression!!!!!!!!!!!!!!!!!!!!!!!!!!!!!!!!!!!!\")\n",
    "vectorizer = TfidfVectorizer(min_df=2, ngram_range=[1,2])#it shows score <0.9 with 1-gram and 0.91 with adding 3-gram\n",
    "\n",
    "X_train_transformed = vectorizer.fit_transform(X_train)\n",
    "X_train_transformed_with_length = add_feature(X_train_transformed, [X_train.str.len(),\n",
    "                                                                    X_train.apply(lambda x: len(''.join([a for a in x if a.isdigit()])))])\n",
    "\n",
    "X_test_transformed = vectorizer.transform(X_test)\n",
    "X_test_transformed_with_length = add_feature(X_test_transformed, [X_test.str.len(),\n",
    "                                                                  X_test.apply(lambda x: len(''.join([a for a in x if a.isdigit()])))])\n",
    "\n",
    "clf = LogisticRegression(penalty = \"l2\",C=100,solver = \"lbfgs\")\n",
    "\n",
    "clf.fit(X_train_transformed_with_length, y_train)\n",
    "\n",
    "predictions = clf.predict(X_test_transformed_with_length)\n",
    "testFAR, testFRR = get_metrics(y_test, predictions)\n",
    "print('Test:')\n",
    "print('\\tFAR:', testFAR)\n",
    "print('\\tFRR:', testFRR)\n",
    "aucscore = roc_auc_score(y_test, predictions)\n",
    "\n",
    "print(\" general score:\", aucscore)\n",
    "print(\"\\nNB with n-grams :\")\n",
    "clf_main = MultinomialNB(alpha=0.1)\n",
    "clf_main.fit(X_train_transformed_with_length, y_train)\n",
    "\n",
    "predictions = clf_main.predict(X_test_transformed_with_length)\n",
    "testFAR, testFRR = get_metrics(y_test, predictions)\n",
    "print('Test:')\n",
    "print('\\tFAR:', testFAR)\n",
    "print('\\tFRR:', testFRR)\n"
   ]
  },
  {
   "cell_type": "code",
   "execution_count": null,
   "metadata": {},
   "outputs": [],
   "source": []
  }
 ]
}