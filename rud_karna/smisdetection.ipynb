{
  "nbformat": 4,
  "nbformat_minor": 0,
  "metadata": {
    "colab": {
      "name": "smisdetection.ipynb",
      "provenance": [],
      "collapsed_sections": []
    },
    "kernelspec": {
      "name": "python3",
      "display_name": "Python 3"
    }
  },
  "cells": [
    {
      "cell_type": "markdown",
      "metadata": {
        "id": "m9aMNg7HHk5E"
      },
      "source": [
        "\r\n",
        "# **SMISHING DETECTION**\r\n",
        "\r\n",
        "---\r\n",
        "\r\n",
        "---\r\n",
        "\r\n",
        "\r\n",
        "\r\n"
      ]
    },
    {
      "cell_type": "code",
      "metadata": {
        "id": "QZQFXmzD-jRS"
      },
      "source": [
        "import tensorflow_hub as hub\r\n",
        "import tensorflow.compat.v1 as tf\r\n",
        "tf.disable_eager_execution()\r\n",
        "import numpy as np\r\n",
        "import pandas as pd\r\n",
        "import sklearn\r\n",
        "from sklearn.ensemble import RandomForestClassifier\r\n",
        "from sklearn.model_selection import train_test_split\r\n",
        "from sklearn.metrics import confusion_matrix\r\n",
        "#from sklearn.metrics import roc_curve\r\n",
        "#from sklearn.metrics import balanced_accuracy_score\r\n",
        "#from sklearn.metrics import recall_score\r\n",
        "from sklearn.metrics import accuracy_score\r\n",
        "from sklearn.linear_model import LogisticRegression\r\n",
        "from sklearn import svm"
      ],
      "execution_count": 233,
      "outputs": []
    },
    {
      "cell_type": "code",
      "metadata": {
        "id": "aUeWsQEU_P1Q",
        "colab": {
          "base_uri": "https://localhost:8080/"
        },
        "outputId": "5b64b2fe-bebc-436c-a3c1-bbcd4bd7d855"
      },
      "source": [
        "DATA_PATH = \"data/smsdb.txt\"\r\n",
        "COLUMN_LABEL = \"label\"\r\n",
        "COLUMN_TEXT = \"text\"\r\n",
        "LABEL_LEGIT = 'LEGI'\r\n",
        "LABEL_SPAM = 'SPAM'\r\n",
        "LABEL_SMISHING = 'SMIS'\r\n",
        "\r\n",
        "dataset = pd.read_csv(DATA_PATH, sep='\\t', names=[COLUMN_LABEL, COLUMN_TEXT], header=None)\r\n",
        "print('Total size:', dataset.shape[0])\r\n",
        "print('Legit messages:', dataset[dataset[COLUMN_LABEL] == LABEL_LEGIT].shape[0])\r\n",
        "print('Spam messages:', dataset[dataset[COLUMN_LABEL] == LABEL_SPAM].shape[0])\r\n",
        "print('Smishing messages:', dataset[dataset[COLUMN_LABEL] == LABEL_SMISHING].shape[0])"
      ],
      "execution_count": 234,
      "outputs": [
        {
          "output_type": "stream",
          "text": [
            "Total size: 1533\n",
            "Legit messages: 1055\n",
            "Spam messages: 176\n",
            "Smishing messages: 302\n"
          ],
          "name": "stdout"
        }
      ]
    },
    {
      "cell_type": "code",
      "metadata": {
        "id": "xYtKZMgzAAfv",
        "colab": {
          "base_uri": "https://localhost:8080/"
        },
        "outputId": "ca5e23a1-20f2-49ef-f684-7c103a96dd47"
      },
      "source": [
        "dataset = dataset[((dataset[COLUMN_LABEL] == LABEL_LEGIT) | (dataset[COLUMN_LABEL] == LABEL_SMISHING))]\r\n",
        "print('Spam messages:', dataset[dataset[COLUMN_LABEL] == LABEL_SPAM].shape[0])\r\n",
        "print(len(dataset))"
      ],
      "execution_count": 235,
      "outputs": [
        {
          "output_type": "stream",
          "text": [
            "Spam messages: 0\n",
            "1357\n"
          ],
          "name": "stdout"
        }
      ]
    },
    {
      "cell_type": "code",
      "metadata": {
        "id": "c40WQVHjF-YE"
      },
      "source": [
        "def messages2vectors(messages):\r\n",
        "    '''\r\n",
        "    Transforms single message into feature-vector;\r\n",
        "    Parameters:\r\n",
        "        messages    -   array of strings;\r\n",
        "    Returns:\r\n",
        "        features    -   array of feature-vectors;   \r\n",
        "    '''\r\n",
        "\r\n",
        "    elmo = hub.Module(\"https://tfhub.dev/google/elmo/1\")\r\n",
        "\r\n",
        "    features = np.zeros((0, 1024))\r\n",
        "    n = 100\r\n",
        "    l = int(len(messages) / n) if len(messages) % n == 0 else int(len(messages) / n) + 1\r\n",
        "    for i in range(l):\r\n",
        "\r\n",
        "        if (i + 1) * n < len(messages):\r\n",
        "            right = (i + 1) * n\r\n",
        "            embedds = elmo(messages[int(i * n) : right], signature=\"default\", as_dict=True)[\"default\"] \r\n",
        "        else:\r\n",
        "            embedds = elmo(messages[:len(messages) - int(i * n)], signature=\"default\", as_dict=True)[\"default\"] \r\n",
        "\r\n",
        "        with tf.Session() as sess:\r\n",
        "            sess.run(tf.global_variables_initializer())\r\n",
        "            embedds = sess.run(embedds)\r\n",
        "            features = np.concatenate([features, embedds])\r\n",
        "\r\n",
        "    return features\r\n",
        "\r\n",
        "def convert_labels(labels_raw):\r\n",
        "    labels = []\r\n",
        "\r\n",
        "    for i in labels_raw:\r\n",
        "      if i == \"LEGI\":\r\n",
        "        labels.append(0)\r\n",
        "      elif i == \"SMIS\":\r\n",
        "        labels.append(1)\r\n",
        "      else:\r\n",
        "        pass\r\n",
        "    labels = np.asarray(labels)\r\n",
        "\r\n",
        "    return labels"
      ],
      "execution_count": 236,
      "outputs": []
    },
    {
      "cell_type": "code",
      "metadata": {
        "colab": {
          "base_uri": "https://localhost:8080/"
        },
        "id": "d4RGBF25GFfx",
        "outputId": "9780e740-a468-486f-f68f-98c2f1199763"
      },
      "source": [
        "features = messages2vectors(dataset[COLUMN_TEXT])\r\n",
        "labels = convert_labels(dataset[COLUMN_LABEL])\r\n",
        "#print(features.shape)\r\n",
        "#print(labels.shape)"
      ],
      "execution_count": 237,
      "outputs": [
        {
          "output_type": "stream",
          "text": [
            "INFO:tensorflow:Saver not created because there are no variables in the graph to restore\n"
          ],
          "name": "stdout"
        },
        {
          "output_type": "stream",
          "text": [
            "INFO:tensorflow:Saver not created because there are no variables in the graph to restore\n"
          ],
          "name": "stderr"
        },
        {
          "output_type": "stream",
          "text": [
            "INFO:tensorflow:Saver not created because there are no variables in the graph to restore\n"
          ],
          "name": "stdout"
        },
        {
          "output_type": "stream",
          "text": [
            "INFO:tensorflow:Saver not created because there are no variables in the graph to restore\n"
          ],
          "name": "stderr"
        },
        {
          "output_type": "stream",
          "text": [
            "INFO:tensorflow:Saver not created because there are no variables in the graph to restore\n"
          ],
          "name": "stdout"
        },
        {
          "output_type": "stream",
          "text": [
            "INFO:tensorflow:Saver not created because there are no variables in the graph to restore\n"
          ],
          "name": "stderr"
        },
        {
          "output_type": "stream",
          "text": [
            "INFO:tensorflow:Saver not created because there are no variables in the graph to restore\n"
          ],
          "name": "stdout"
        },
        {
          "output_type": "stream",
          "text": [
            "INFO:tensorflow:Saver not created because there are no variables in the graph to restore\n"
          ],
          "name": "stderr"
        },
        {
          "output_type": "stream",
          "text": [
            "INFO:tensorflow:Saver not created because there are no variables in the graph to restore\n"
          ],
          "name": "stdout"
        },
        {
          "output_type": "stream",
          "text": [
            "INFO:tensorflow:Saver not created because there are no variables in the graph to restore\n"
          ],
          "name": "stderr"
        },
        {
          "output_type": "stream",
          "text": [
            "INFO:tensorflow:Saver not created because there are no variables in the graph to restore\n"
          ],
          "name": "stdout"
        },
        {
          "output_type": "stream",
          "text": [
            "INFO:tensorflow:Saver not created because there are no variables in the graph to restore\n"
          ],
          "name": "stderr"
        },
        {
          "output_type": "stream",
          "text": [
            "INFO:tensorflow:Saver not created because there are no variables in the graph to restore\n"
          ],
          "name": "stdout"
        },
        {
          "output_type": "stream",
          "text": [
            "INFO:tensorflow:Saver not created because there are no variables in the graph to restore\n"
          ],
          "name": "stderr"
        },
        {
          "output_type": "stream",
          "text": [
            "INFO:tensorflow:Saver not created because there are no variables in the graph to restore\n"
          ],
          "name": "stdout"
        },
        {
          "output_type": "stream",
          "text": [
            "INFO:tensorflow:Saver not created because there are no variables in the graph to restore\n"
          ],
          "name": "stderr"
        },
        {
          "output_type": "stream",
          "text": [
            "INFO:tensorflow:Saver not created because there are no variables in the graph to restore\n"
          ],
          "name": "stdout"
        },
        {
          "output_type": "stream",
          "text": [
            "INFO:tensorflow:Saver not created because there are no variables in the graph to restore\n"
          ],
          "name": "stderr"
        },
        {
          "output_type": "stream",
          "text": [
            "INFO:tensorflow:Saver not created because there are no variables in the graph to restore\n"
          ],
          "name": "stdout"
        },
        {
          "output_type": "stream",
          "text": [
            "INFO:tensorflow:Saver not created because there are no variables in the graph to restore\n"
          ],
          "name": "stderr"
        },
        {
          "output_type": "stream",
          "text": [
            "INFO:tensorflow:Saver not created because there are no variables in the graph to restore\n"
          ],
          "name": "stdout"
        },
        {
          "output_type": "stream",
          "text": [
            "INFO:tensorflow:Saver not created because there are no variables in the graph to restore\n"
          ],
          "name": "stderr"
        },
        {
          "output_type": "stream",
          "text": [
            "INFO:tensorflow:Saver not created because there are no variables in the graph to restore\n"
          ],
          "name": "stdout"
        },
        {
          "output_type": "stream",
          "text": [
            "INFO:tensorflow:Saver not created because there are no variables in the graph to restore\n"
          ],
          "name": "stderr"
        },
        {
          "output_type": "stream",
          "text": [
            "INFO:tensorflow:Saver not created because there are no variables in the graph to restore\n"
          ],
          "name": "stdout"
        },
        {
          "output_type": "stream",
          "text": [
            "INFO:tensorflow:Saver not created because there are no variables in the graph to restore\n"
          ],
          "name": "stderr"
        },
        {
          "output_type": "stream",
          "text": [
            "INFO:tensorflow:Saver not created because there are no variables in the graph to restore\n"
          ],
          "name": "stdout"
        },
        {
          "output_type": "stream",
          "text": [
            "INFO:tensorflow:Saver not created because there are no variables in the graph to restore\n"
          ],
          "name": "stderr"
        }
      ]
    },
    {
      "cell_type": "code",
      "metadata": {
        "id": "_9qUWXZbG-uU"
      },
      "source": [
        "def get_metrics(labels, predictions):\r\n",
        "    '''\r\n",
        "    FAR -   False Acceptance Rate;\r\n",
        "    FRR -   False Rejection Rate;\r\n",
        "    FPR = FP/(FP + TN)\r\n",
        "    FNR = FN/(FN + TP)\r\n",
        "    where FP: False positive\r\n",
        "          FN: False Negative\r\n",
        "          TN: True Negative\r\n",
        "          TP: True Positive  \r\n",
        "    '''  \r\n",
        "    \r\n",
        "    tn, fp, fn, tp = confusion_matrix(labels, predictions).ravel()\r\n",
        "    #print(\"tn, fp, fn, tp\", tn, fp, fn, tp)\r\n",
        "\r\n",
        "    # >FAR like FNR\r\n",
        "    FRR = fp / (fp + tn) * 100\r\n",
        "    FAR = fn / (fn + tp) * 100\r\n",
        "    return FAR, FRR"
      ],
      "execution_count": 238,
      "outputs": []
    },
    {
      "cell_type": "code",
      "metadata": {
        "id": "YrVTm4OD0Wjo"
      },
      "source": [
        "train_data, test_data, train_labels, test_labels = train_test_split(features, labels, test_size=0.7, random_state=5)  # 70% training and 30% test"
      ],
      "execution_count": 239,
      "outputs": []
    },
    {
      "cell_type": "markdown",
      "metadata": {
        "id": "dEmJAioF8ZqQ"
      },
      "source": [
        "**Random Forests Classifiers**"
      ]
    },
    {
      "cell_type": "code",
      "metadata": {
        "id": "fvgvVKhu8cWX"
      },
      "source": [
        "clf=RandomForestClassifier()\r\n",
        "clf.fit(train_data, train_labels)\r\n",
        "test_labels_pred = clf.predict(test_data)\r\n",
        "train_labels_pred = clf.predict(train_data)"
      ],
      "execution_count": 240,
      "outputs": []
    },
    {
      "cell_type": "code",
      "metadata": {
        "colab": {
          "base_uri": "https://localhost:8080/"
        },
        "id": "bmE6wHA9HRtK",
        "outputId": "b31d6fdf-05c3-4d71-8a16-e101e5651671"
      },
      "source": [
        "print(\"Accuracy test\", accuracy_score(test_labels, test_labels_pred))\r\n",
        "print(\"Accuracy train\", accuracy_score(train_labels, train_labels_pred))\r\n",
        "trainFAR, trainFRR = get_metrics(train_labels, train_labels_pred)\r\n",
        "testFAR, testFRR = get_metrics(test_labels, test_labels_pred)"
      ],
      "execution_count": 241,
      "outputs": [
        {
          "output_type": "stream",
          "text": [
            "Accuracy test 0.9621052631578947\n",
            "Accuracy train 1.0\n"
          ],
          "name": "stdout"
        }
      ]
    },
    {
      "cell_type": "code",
      "metadata": {
        "colab": {
          "base_uri": "https://localhost:8080/"
        },
        "id": "c-yxm0MW1s3H",
        "outputId": "1f1b1cf8-30fa-44e1-8761-2f16c5266ac6"
      },
      "source": [
        "print('Train:')\r\n",
        "print('\\tFAR:', trainFAR)\r\n",
        "print('\\tFRR:', trainFRR)\r\n",
        "\r\n",
        "print('Test:')\r\n",
        "print('\\tFAR:', testFAR)\r\n",
        "print('\\tFRR:', testFRR)"
      ],
      "execution_count": 242,
      "outputs": [
        {
          "output_type": "stream",
          "text": [
            "Train:\n",
            "\tFAR: 0.0\n",
            "\tFRR: 0.0\n",
            "Test:\n",
            "\tFAR: 10.83743842364532\n",
            "\tFRR: 1.8741633199464525\n"
          ],
          "name": "stdout"
        }
      ]
    },
    {
      "cell_type": "markdown",
      "metadata": {
        "id": "DRdSvqKtl8C9"
      },
      "source": [
        " **SVM**"
      ]
    },
    {
      "cell_type": "code",
      "metadata": {
        "id": "5Y6MtltbnKA4"
      },
      "source": [
        "clf = svm.SVC(kernel='linear')\r\n",
        "clf.fit(train_data, train_labels)\r\n",
        "test_labels_pred = clf.predict(test_data)\r\n",
        "train_labels_pred = clf.predict(train_data)"
      ],
      "execution_count": 243,
      "outputs": []
    },
    {
      "cell_type": "code",
      "metadata": {
        "colab": {
          "base_uri": "https://localhost:8080/"
        },
        "id": "HXqsw01FpFwG",
        "outputId": "db12a004-b742-4323-f135-bf08c25cce2b"
      },
      "source": [
        "print(\"Accuracy test\", accuracy_score(test_labels, test_labels_pred))\r\n",
        "print(\"Accuracy train\", accuracy_score(train_labels, train_labels_pred))"
      ],
      "execution_count": 244,
      "outputs": [
        {
          "output_type": "stream",
          "text": [
            "Accuracy test 0.9747368421052631\n",
            "Accuracy train 1.0\n"
          ],
          "name": "stdout"
        }
      ]
    },
    {
      "cell_type": "code",
      "metadata": {
        "id": "Xx4SezV1pge_"
      },
      "source": [
        "trainFAR, trainFRR = get_metrics(train_labels, train_labels_pred)\r\n",
        "testFAR, testFRR = get_metrics(test_labels, test_labels_pred)"
      ],
      "execution_count": 245,
      "outputs": []
    },
    {
      "cell_type": "code",
      "metadata": {
        "colab": {
          "base_uri": "https://localhost:8080/"
        },
        "id": "SscudWHBqmS4",
        "outputId": "5def326e-aec9-46e7-9e25-4fe3a83560fa"
      },
      "source": [
        "print('Train:')\r\n",
        "print('\\tFAR:', trainFAR)\r\n",
        "print('\\tFRR:', trainFRR)\r\n",
        "\r\n",
        "print('Test:')\r\n",
        "print('\\tFAR:', testFAR)\r\n",
        "print('\\tFRR:', testFRR)"
      ],
      "execution_count": 246,
      "outputs": [
        {
          "output_type": "stream",
          "text": [
            "Train:\n",
            "\tFAR: 0.0\n",
            "\tFRR: 0.0\n",
            "Test:\n",
            "\tFAR: 3.4482758620689653\n",
            "\tFRR: 2.2757697456492636\n"
          ],
          "name": "stdout"
        }
      ]
    },
    {
      "cell_type": "markdown",
      "metadata": {
        "id": "hCM0Xdqjqy9O"
      },
      "source": [
        "**K-Nearest Neighbors**"
      ]
    },
    {
      "cell_type": "code",
      "metadata": {
        "id": "jjNiFURurWeF"
      },
      "source": [
        "from sklearn.neighbors import KNeighborsClassifier"
      ],
      "execution_count": 247,
      "outputs": []
    },
    {
      "cell_type": "code",
      "metadata": {
        "colab": {
          "base_uri": "https://localhost:8080/"
        },
        "id": "ZuVuV9ziriDz",
        "outputId": "57454dd7-2e10-4083-a751-ac9124018114"
      },
      "source": [
        "knn = KNeighborsClassifier(n_neighbors=5)\r\n",
        "knn.fit(train_data, train_labels)"
      ],
      "execution_count": 248,
      "outputs": [
        {
          "output_type": "execute_result",
          "data": {
            "text/plain": [
              "KNeighborsClassifier(algorithm='auto', leaf_size=30, metric='minkowski',\n",
              "                     metric_params=None, n_jobs=None, n_neighbors=5, p=2,\n",
              "                     weights='uniform')"
            ]
          },
          "metadata": {
            "tags": []
          },
          "execution_count": 248
        }
      ]
    },
    {
      "cell_type": "code",
      "metadata": {
        "id": "AkyDMrWhrmta"
      },
      "source": [
        "test_labels_pred = knn.predict(test_data)\r\n",
        "train_labels_pred = knn.predict(train_data)"
      ],
      "execution_count": 249,
      "outputs": []
    },
    {
      "cell_type": "code",
      "metadata": {
        "colab": {
          "base_uri": "https://localhost:8080/"
        },
        "id": "O2qwDWnyr6rU",
        "outputId": "4d56ada9-dc80-478e-852f-5df0926eae0f"
      },
      "source": [
        "print(\"Accuracy test\", accuracy_score(test_labels, test_labels_pred))\r\n",
        "print(\"Accuracy train\", accuracy_score(train_labels, train_labels_pred))"
      ],
      "execution_count": 250,
      "outputs": [
        {
          "output_type": "stream",
          "text": [
            "Accuracy test 0.9673684210526315\n",
            "Accuracy train 0.9754299754299754\n"
          ],
          "name": "stdout"
        }
      ]
    },
    {
      "cell_type": "code",
      "metadata": {
        "colab": {
          "base_uri": "https://localhost:8080/"
        },
        "id": "oc9UCQG2sCkU",
        "outputId": "7f9a36da-d748-4e7b-affd-1ecbeacafe6c"
      },
      "source": [
        "trainFAR, trainFRR = get_metrics(train_labels, train_labels_pred)\r\n",
        "testFAR, testFRR = get_metrics(test_labels, test_labels_pred)\r\n",
        "print('Train:')\r\n",
        "print('\\tFAR:', trainFAR)\r\n",
        "print('\\tFRR:', trainFRR)\r\n",
        "\r\n",
        "print('Test:')\r\n",
        "print('\\tFAR:', testFAR)\r\n",
        "print('\\tFRR:', testFRR)"
      ],
      "execution_count": 251,
      "outputs": [
        {
          "output_type": "stream",
          "text": [
            "Train:\n",
            "\tFAR: 3.0303030303030303\n",
            "\tFRR: 2.272727272727273\n",
            "Test:\n",
            "\tFAR: 1.477832512315271\n",
            "\tFRR: 3.748326639892905\n"
          ],
          "name": "stdout"
        }
      ]
    },
    {
      "cell_type": "markdown",
      "metadata": {
        "id": "T4GJHUdjtwVM"
      },
      "source": [
        "**Logistic Regression**"
      ]
    },
    {
      "cell_type": "code",
      "metadata": {
        "id": "M_5Rst5iuJ_0"
      },
      "source": [
        "lg = LogisticRegression()"
      ],
      "execution_count": 252,
      "outputs": []
    },
    {
      "cell_type": "code",
      "metadata": {
        "colab": {
          "base_uri": "https://localhost:8080/"
        },
        "id": "zYJmAppNuMNO",
        "outputId": "bc6bbbb6-813e-48a2-e805-5c354faf3b69"
      },
      "source": [
        "lg.fit(train_data, train_labels)"
      ],
      "execution_count": 253,
      "outputs": [
        {
          "output_type": "execute_result",
          "data": {
            "text/plain": [
              "LogisticRegression(C=1.0, class_weight=None, dual=False, fit_intercept=True,\n",
              "                   intercept_scaling=1, l1_ratio=None, max_iter=100,\n",
              "                   multi_class='auto', n_jobs=None, penalty='l2',\n",
              "                   random_state=None, solver='lbfgs', tol=0.0001, verbose=0,\n",
              "                   warm_start=False)"
            ]
          },
          "metadata": {
            "tags": []
          },
          "execution_count": 253
        }
      ]
    },
    {
      "cell_type": "code",
      "metadata": {
        "id": "pd-ivGmTuRzw"
      },
      "source": [
        "test_labels_pred = lg.predict(test_data)\r\n",
        "train_labels_pred = lg.predict(train_data)"
      ],
      "execution_count": 254,
      "outputs": []
    },
    {
      "cell_type": "code",
      "metadata": {
        "colab": {
          "base_uri": "https://localhost:8080/"
        },
        "id": "ggM6aCpFucyx",
        "outputId": "455558fe-808f-4323-d870-fdca90301eb0"
      },
      "source": [
        "print(\"Accuracy test\", accuracy_score(test_labels, test_labels_pred))\r\n",
        "print(\"Accuracy train\", accuracy_score(train_labels, train_labels_pred))"
      ],
      "execution_count": 255,
      "outputs": [
        {
          "output_type": "stream",
          "text": [
            "Accuracy test 0.9778947368421053\n",
            "Accuracy train 1.0\n"
          ],
          "name": "stdout"
        }
      ]
    },
    {
      "cell_type": "code",
      "metadata": {
        "colab": {
          "base_uri": "https://localhost:8080/"
        },
        "id": "ovbq20DJufVQ",
        "outputId": "94f153a9-4d6b-4292-b6a7-9fd438387c23"
      },
      "source": [
        "trainFAR, trainFRR = get_metrics(train_labels, train_labels_pred)\r\n",
        "testFAR, testFRR = get_metrics(test_labels, test_labels_pred)\r\n",
        "print('Train:')\r\n",
        "print('\\tFAR:', trainFAR)\r\n",
        "print('\\tFRR:', trainFRR)\r\n",
        "\r\n",
        "print('Test:')\r\n",
        "print('\\tFAR:', testFAR)\r\n",
        "print('\\tFRR:', testFRR)"
      ],
      "execution_count": 256,
      "outputs": [
        {
          "output_type": "stream",
          "text": [
            "Train:\n",
            "\tFAR: 0.0\n",
            "\tFRR: 0.0\n",
            "Test:\n",
            "\tFAR: 2.955665024630542\n",
            "\tFRR: 2.0080321285140563\n"
          ],
          "name": "stdout"
        }
      ]
    }
  ]
}