{
  "nbformat": 4,
  "nbformat_minor": 0,
  "metadata": {
    "colab": {
      "name": "spamdetection.ipynb",
      "provenance": [],
      "collapsed_sections": []
    },
    "kernelspec": {
      "name": "python3",
      "display_name": "Python 3"
    }
  },
  "cells": [
    {
      "cell_type": "markdown",
      "metadata": {
        "id": "m9aMNg7HHk5E"
      },
      "source": [
        "\r\n",
        "\r\n",
        "# **SPAM DETECTION**\r\n",
        "\r\n",
        "---\r\n",
        "\r\n",
        "---\r\n",
        "\r\n",
        "\r\n",
        "\r\n"
      ]
    },
    {
      "cell_type": "markdown",
      "metadata": {
        "id": "NdbC6-VBImjz"
      },
      "source": [
        "important packages and constants"
      ]
    },
    {
      "cell_type": "code",
      "metadata": {
        "id": "QZQFXmzD-jRS"
      },
      "source": [
        "import tensorflow_hub as hub\r\n",
        "import tensorflow.compat.v1 as tf\r\n",
        "tf.disable_eager_execution()\r\n",
        "import numpy as np\r\n",
        "import pandas as pd\r\n",
        "import sklearn\r\n",
        "from sklearn.ensemble import RandomForestClassifier\r\n",
        "from sklearn.model_selection import train_test_split"
      ],
      "execution_count": 2,
      "outputs": []
    },
    {
      "cell_type": "code",
      "metadata": {
        "id": "aUeWsQEU_P1Q"
      },
      "source": [
        "# specify location your dataset here\r\n",
        "DATA_PATH = \"data/smsdb.txt\"\r\n",
        "\r\n",
        "# give name to label-column and text-column\r\n",
        "COLUMN_LABEL = \"label\"\r\n",
        "COLUMN_TEXT = \"text\"\r\n",
        "\r\n",
        "# these are labels that indicate the type of message.\r\n",
        "LABEL_LEGIT = 'LEGI'\r\n",
        "LABEL_SPAM = 'SPAM'\r\n",
        "LABEL_SMISHING = 'SMIS'"
      ],
      "execution_count": 3,
      "outputs": []
    },
    {
      "cell_type": "markdown",
      "metadata": {
        "id": "EJvDurUlPqgG"
      },
      "source": [
        "# **Dataset**"
      ]
    },
    {
      "cell_type": "code",
      "metadata": {
        "colab": {
          "base_uri": "https://localhost:8080/"
        },
        "id": "y0-C88CX_qt2",
        "outputId": "5e539801-1b52-485e-ac65-64b26a3a61e8"
      },
      "source": [
        "dataset = pd.read_csv(DATA_PATH, sep='\\t', names=[COLUMN_LABEL, COLUMN_TEXT], header=None)\r\n",
        "print('Total size:', dataset.shape[0])\r\n",
        "print('Legit messages:', dataset[dataset[COLUMN_LABEL] == LABEL_LEGIT].shape[0])\r\n",
        "print('Spam messages:', dataset[dataset[COLUMN_LABEL] == LABEL_SPAM].shape[0])\r\n",
        "print('Smishing messages:', dataset[dataset[COLUMN_LABEL] == LABEL_SMISHING].shape[0])"
      ],
      "execution_count": 4,
      "outputs": [
        {
          "output_type": "stream",
          "text": [
            "Total size: 1533\n",
            "Legit messages: 1055\n",
            "Spam messages: 176\n",
            "Smishing messages: 302\n"
          ],
          "name": "stdout"
        }
      ]
    },
    {
      "cell_type": "code",
      "metadata": {
        "id": "xYtKZMgzAAfv",
        "colab": {
          "base_uri": "https://localhost:8080/"
        },
        "outputId": "57709668-dc59-4be6-991a-b56213a28173"
      },
      "source": [
        "dataset = dataset[((dataset[COLUMN_LABEL] == LABEL_LEGIT) | (dataset[COLUMN_LABEL] == LABEL_SPAM))]\r\n",
        "\r\n",
        "# Let's check if they are gone\r\n",
        "print('Smishing messages:', dataset[dataset[COLUMN_LABEL] == LABEL_SMISHING].shape[0])\r\n",
        "print(len(dataset))"
      ],
      "execution_count": 5,
      "outputs": [
        {
          "output_type": "stream",
          "text": [
            "Smishing messages: 0\n",
            "1231\n"
          ],
          "name": "stdout"
        }
      ]
    },
    {
      "cell_type": "markdown",
      "metadata": {
        "id": "6dLuHuHtPya1"
      },
      "source": [
        "# Data preprocessing"
      ]
    },
    {
      "cell_type": "code",
      "metadata": {
        "id": "c40WQVHjF-YE"
      },
      "source": [
        "def messages2vectors(messages):\r\n",
        "    '''\r\n",
        "    Transforms single message into feature-vector;\r\n",
        "    Parameters:\r\n",
        "        messages    -   array of strings;\r\n",
        "    Returns:\r\n",
        "        features    -   array of feature-vectors;   \r\n",
        "    '''\r\n",
        "\r\n",
        "    elmo = hub.Module(\"https://tfhub.dev/google/elmo/1\")\r\n",
        "\r\n",
        "    features = np.zeros((0, 1024))\r\n",
        "    n = 100\r\n",
        "    l = int(len(messages) / n) if len(messages) % n == 0 else int(len(messages) / n) + 1\r\n",
        "    for i in range(l):\r\n",
        "\r\n",
        "        if (i + 1) * n < len(messages):\r\n",
        "            right = (i + 1) * n\r\n",
        "            embedds = elmo(messages[int(i * n) : right], signature=\"default\", as_dict=True)[\"default\"] \r\n",
        "        else:\r\n",
        "            embedds = elmo(messages[:len(messages) - int(i * n)], signature=\"default\", as_dict=True)[\"default\"] \r\n",
        "\r\n",
        "        with tf.Session() as sess:\r\n",
        "            sess.run(tf.global_variables_initializer())\r\n",
        "            embedds = sess.run(embedds)\r\n",
        "            features = np.concatenate([features, embedds])\r\n",
        "\r\n",
        "    return features"
      ],
      "execution_count": 6,
      "outputs": []
    },
    {
      "cell_type": "code",
      "metadata": {
        "id": "GrJEoo50xQVJ"
      },
      "source": [
        "#print(features)"
      ],
      "execution_count": 7,
      "outputs": []
    },
    {
      "cell_type": "code",
      "metadata": {
        "id": "58Z_PvwyGCDS"
      },
      "source": [
        "def convert_labels(labels_raw):\r\n",
        "    '''\r\n",
        "    Transforms labels into numerical values;\r\n",
        "    Parameters:\r\n",
        "        labels_raw    -   array of text-labels;\r\n",
        "    Returns:\r\n",
        "        features    -   array of numerical labels;   \r\n",
        "    ''' \r\n",
        "\r\n",
        "    # add your code here\r\n",
        "    labels = []\r\n",
        "\r\n",
        "    for i in labels_raw:\r\n",
        "      if i == \"LEGI\":\r\n",
        "        labels.append(0)\r\n",
        "      elif i == \"SPAM\":\r\n",
        "        labels.append(1)\r\n",
        "      else:\r\n",
        "        pass\r\n",
        "    labels = np.asarray(labels)\r\n",
        "    return labels"
      ],
      "execution_count": 8,
      "outputs": []
    },
    {
      "cell_type": "code",
      "metadata": {
        "id": "HaaXXM1OSyMq"
      },
      "source": [
        "#print(labels)\r\n",
        "#print(len(labels))"
      ],
      "execution_count": 9,
      "outputs": []
    },
    {
      "cell_type": "code",
      "metadata": {
        "colab": {
          "base_uri": "https://localhost:8080/"
        },
        "id": "d4RGBF25GFfx",
        "outputId": "71843bcf-50cd-49f7-b98c-c60526e42e41"
      },
      "source": [
        "features = messages2vectors(dataset[COLUMN_TEXT])\r\n",
        "labels = convert_labels(dataset[COLUMN_LABEL])\r\n",
        "print(features.shape)\r\n",
        "print(labels.shape)"
      ],
      "execution_count": 10,
      "outputs": [
        {
          "output_type": "stream",
          "text": [
            "INFO:tensorflow:Saver not created because there are no variables in the graph to restore\n"
          ],
          "name": "stdout"
        },
        {
          "output_type": "stream",
          "text": [
            "INFO:tensorflow:Saver not created because there are no variables in the graph to restore\n"
          ],
          "name": "stderr"
        },
        {
          "output_type": "stream",
          "text": [
            "INFO:tensorflow:Saver not created because there are no variables in the graph to restore\n"
          ],
          "name": "stdout"
        },
        {
          "output_type": "stream",
          "text": [
            "INFO:tensorflow:Saver not created because there are no variables in the graph to restore\n"
          ],
          "name": "stderr"
        },
        {
          "output_type": "stream",
          "text": [
            "INFO:tensorflow:Saver not created because there are no variables in the graph to restore\n"
          ],
          "name": "stdout"
        },
        {
          "output_type": "stream",
          "text": [
            "INFO:tensorflow:Saver not created because there are no variables in the graph to restore\n"
          ],
          "name": "stderr"
        },
        {
          "output_type": "stream",
          "text": [
            "INFO:tensorflow:Saver not created because there are no variables in the graph to restore\n"
          ],
          "name": "stdout"
        },
        {
          "output_type": "stream",
          "text": [
            "INFO:tensorflow:Saver not created because there are no variables in the graph to restore\n"
          ],
          "name": "stderr"
        },
        {
          "output_type": "stream",
          "text": [
            "INFO:tensorflow:Saver not created because there are no variables in the graph to restore\n"
          ],
          "name": "stdout"
        },
        {
          "output_type": "stream",
          "text": [
            "INFO:tensorflow:Saver not created because there are no variables in the graph to restore\n"
          ],
          "name": "stderr"
        },
        {
          "output_type": "stream",
          "text": [
            "INFO:tensorflow:Saver not created because there are no variables in the graph to restore\n"
          ],
          "name": "stdout"
        },
        {
          "output_type": "stream",
          "text": [
            "INFO:tensorflow:Saver not created because there are no variables in the graph to restore\n"
          ],
          "name": "stderr"
        },
        {
          "output_type": "stream",
          "text": [
            "INFO:tensorflow:Saver not created because there are no variables in the graph to restore\n"
          ],
          "name": "stdout"
        },
        {
          "output_type": "stream",
          "text": [
            "INFO:tensorflow:Saver not created because there are no variables in the graph to restore\n"
          ],
          "name": "stderr"
        },
        {
          "output_type": "stream",
          "text": [
            "INFO:tensorflow:Saver not created because there are no variables in the graph to restore\n"
          ],
          "name": "stdout"
        },
        {
          "output_type": "stream",
          "text": [
            "INFO:tensorflow:Saver not created because there are no variables in the graph to restore\n"
          ],
          "name": "stderr"
        },
        {
          "output_type": "stream",
          "text": [
            "INFO:tensorflow:Saver not created because there are no variables in the graph to restore\n"
          ],
          "name": "stdout"
        },
        {
          "output_type": "stream",
          "text": [
            "INFO:tensorflow:Saver not created because there are no variables in the graph to restore\n"
          ],
          "name": "stderr"
        },
        {
          "output_type": "stream",
          "text": [
            "INFO:tensorflow:Saver not created because there are no variables in the graph to restore\n"
          ],
          "name": "stdout"
        },
        {
          "output_type": "stream",
          "text": [
            "INFO:tensorflow:Saver not created because there are no variables in the graph to restore\n"
          ],
          "name": "stderr"
        },
        {
          "output_type": "stream",
          "text": [
            "INFO:tensorflow:Saver not created because there are no variables in the graph to restore\n"
          ],
          "name": "stdout"
        },
        {
          "output_type": "stream",
          "text": [
            "INFO:tensorflow:Saver not created because there are no variables in the graph to restore\n"
          ],
          "name": "stderr"
        },
        {
          "output_type": "stream",
          "text": [
            "INFO:tensorflow:Saver not created because there are no variables in the graph to restore\n"
          ],
          "name": "stdout"
        },
        {
          "output_type": "stream",
          "text": [
            "INFO:tensorflow:Saver not created because there are no variables in the graph to restore\n"
          ],
          "name": "stderr"
        },
        {
          "output_type": "stream",
          "text": [
            "INFO:tensorflow:Saver not created because there are no variables in the graph to restore\n"
          ],
          "name": "stdout"
        },
        {
          "output_type": "stream",
          "text": [
            "INFO:tensorflow:Saver not created because there are no variables in the graph to restore\n"
          ],
          "name": "stderr"
        },
        {
          "output_type": "stream",
          "text": [
            "(1231, 1024)\n",
            "(1231,)\n"
          ],
          "name": "stdout"
        }
      ]
    },
    {
      "cell_type": "code",
      "metadata": {
        "id": "C6T0pegqGOuo"
      },
      "source": [
        "def split_data(features, labels, ratio=0.7):\r\n",
        "    '''\r\n",
        "    Splits dataset into train/test parts using given ratio;\r\n",
        "    Parameters:\r\n",
        "        data    -   array of features;\r\n",
        "        labels  -   array of corresponding labels;\r\n",
        "        ratio   -   train/test size ratio;\r\n",
        "    Returns:\r\n",
        "        train_data      -   array of training features;   \r\n",
        "        train_labels    -   array of training labels; \r\n",
        "        test_data       -   array of testing features; \r\n",
        "        test_labels     -   array of testing labels; \r\n",
        "    '''    \r\n",
        "\r\n",
        "\r\n",
        "    positive_data = features[labels == 1] # all spam features\r\n",
        "    negative_data = features[labels == 0] # all legit features\r\n",
        "\r\n",
        "    # We shuffle arrays to get random samples later\r\n",
        "    random_indecies_positive = np.arange(positive_data.shape[0])\r\n",
        "    np.random.shuffle(random_indecies_positive)\r\n",
        "    random_indecies_negative = np.arange(negative_data.shape[0])\r\n",
        "    np.random.shuffle(random_indecies_negative)\r\n",
        "\r\n",
        "    n_positive_train = int(positive_data.shape[0] * ratio)\r\n",
        "    n_negative_train = int(negative_data.shape[0] * ratio)\r\n",
        "\r\n",
        "    # Training data are all indecies in 'ratio' part of shuffled indecies\r\n",
        "    train_data = np.concatenate([positive_data[random_indecies_positive[:n_positive_train]], \r\n",
        "                                negative_data[random_indecies_negative[:n_negative_train]]])\r\n",
        "    \r\n",
        "    train_labels = np.asarray([1] * n_positive_train + [0] * n_negative_train)\r\n",
        "\r\n",
        "    # Testing data are all indecies that remain\r\n",
        "    test_data = np.concatenate([positive_data[random_indecies_positive[n_positive_train:]], \r\n",
        "                                negative_data[random_indecies_negative[n_negative_train:]]])\r\n",
        "\r\n",
        "    test_labels = np.asarray([1] * (positive_data.shape[0]  - n_positive_train) + [0] * (negative_data.shape[0] - n_negative_train))\r\n",
        "\r\n",
        "    return train_data, train_labels, test_data, test_labels"
      ],
      "execution_count": 11,
      "outputs": []
    },
    {
      "cell_type": "markdown",
      "metadata": {
        "id": "qeF2UFLWP8N9"
      },
      "source": [
        "# Metrics"
      ]
    },
    {
      "cell_type": "code",
      "metadata": {
        "id": "_9qUWXZbG-uU"
      },
      "source": [
        "\r\n",
        "def get_metrics(labels, predictions):\r\n",
        "    '''\r\n",
        "    Computes metrics;\r\n",
        "    Parameters:\r\n",
        "        labels    -   array of labels;\r\n",
        "        predictions  -   array of predictions;\r\n",
        "    Returns:\r\n",
        "        FAR -   False Acceptance Rate;\r\n",
        "        FRR -   False Rejection Rate;\r\n",
        "        FAR = FPR = FP/(FP + TN)\r\n",
        "        FRR = FNR = FN/(FN + TP)\r\n",
        "        where FP: False positive\r\n",
        "              FN: False Negative\r\n",
        "              TN: True Negative\r\n",
        "              TP: True Positive\r\n",
        "              TP = cm[0][0]\r\n",
        "              FP = cm[0][1]\r\n",
        "              FN = cm[1][0]\r\n",
        "              TN = cm[1][1]\r\n",
        "         \r\n",
        "    '''  \r\n",
        "    \r\n",
        "    tn, fp, fn, tp = sklearn.metrics.confusion_matrix(labels, predictions).ravel()\r\n",
        "    print(\"tn, fp, fn, tp\", tn, fp, fn, tp)\r\n",
        "\r\n",
        "    # >FAR like FNR\r\n",
        "\r\n",
        "    FRR = fp / (fp + tn) * 100\r\n",
        "    FAR = fn / (fn + tp) * 100\r\n",
        "#\r\n",
        "    #print('FAR, FRR',FAR, FRR)\r\n",
        "\r\n",
        "    #FAR, tpr, thresholds = sklearn.metrics.roc_curve(labels, predictions)\r\n",
        "    #FRR = 1-tpr\r\n",
        "    #print('FAR, FRR',FAR, FRR)\r\n",
        "    #\r\n",
        "    #FRR = (2 * sklearn.metrics.balanced_accuracy_score(labels, predictions)) - sklearn.metrics.recall_score(labels, predictions)\r\n",
        "    #FAR = 1 - sklearn.metrics.recall_score(labels, predictions)\r\n",
        "    \r\n",
        "    return FAR, FRR"
      ],
      "execution_count": 1,
      "outputs": []
    },
    {
      "cell_type": "markdown",
      "metadata": {
        "id": "nFUT2hQjQCw9"
      },
      "source": [
        "#Model initialization"
      ]
    },
    {
      "cell_type": "code",
      "metadata": {
        "id": "gwHHdk6pHDOp"
      },
      "source": [
        "classifierType = sklearn.ensemble.RandomForestClassifier\r\n",
        "hyperparameters = {'n_estimators' : 100,\r\n",
        "                'criterion' : 'gini',\r\n",
        "                'max_depth' : None,\r\n",
        "                'min_samples_split' : 2}"
      ],
      "execution_count": 12,
      "outputs": []
    },
    {
      "cell_type": "markdown",
      "metadata": {
        "id": "oaBWfuBbQNEN"
      },
      "source": [
        "# Model Training and evaluation"
      ]
    },
    {
      "cell_type": "code",
      "metadata": {
        "id": "7xcIklt9HLvk"
      },
      "source": [
        "def evaluate(classifierType, hyperparameters, features, labels):\r\n",
        "    '''\r\n",
        "    Splits dataset into train/test parts using given ratio;\r\n",
        "    Parameters:\r\n",
        "        classifierType      -   type of ML algorithm to use;\r\n",
        "        hyperparameters     -   dictionary of model's parameters;\r\n",
        "        features            -   array of features;\r\n",
        "        labels              -   array of labels\r\n",
        "    Returns:\r\n",
        "        trainFAR    -   False Acceptance Rate for train dataset;\r\n",
        "        trainFRR    -   False Rejection Rate for train dataset;\r\n",
        "        testFAR     -   False Acceptance Rate for test dataset;\r\n",
        "        testFRR    -   False Rejection Rate for test dataset;\r\n",
        "\r\n",
        "        train_data      -   array of training features;   \r\n",
        "        train_labels    -   array of training labels; \r\n",
        "        test_data       -   array of testing features; \r\n",
        "        test_labels     -   array of testing labels; \r\n",
        "        FAR = FPR = FP/(FP + TN)\r\n",
        "        FRR = FNR = FN/(FN + TP)\r\n",
        "        where FP: False positive\r\n",
        "              FN: False Negative\r\n",
        "              TN: True Negative\r\n",
        "              TP: True Positive\r\n",
        "    \r\n",
        "    '''    \r\n",
        "    \r\n",
        "    model = classifierType(**hyperparameters)\r\n",
        "\r\n",
        "    # Split data\r\n",
        "    # add your code here\r\n",
        "    train_data, test_data, train_labels, test_labels = train_test_split(features, labels)\r\n",
        "    #X_train, X_test, y_train, y_test train_data, train_labels, test_data, test_labels\r\n",
        "    print('Train set shape:', train_data.shape)\r\n",
        "    print('Train labels shape:', train_labels.shape)\r\n",
        "    print('Test set shape:', test_data.shape)\r\n",
        "    print('Test labels shape:', test_labels.shape)\r\n",
        "\r\n",
        "    #print(\"train data\", train_data)\r\n",
        "    #print(\"train labels\", train_labels)\r\n",
        "    #print(\"test data\", test_data) #binary\r\n",
        "    #print(\"test labels\", test_labels) #binary\r\n",
        "\r\n",
        "    # Fit your model\r\n",
        "    # add your code here\r\n",
        "    model.fit(train_data, train_labels)\r\n",
        "\r\n",
        "    # Make predictions for training dataset\r\n",
        "    # add your code here\r\n",
        "    pred = model.predict(train_data)\r\n",
        "    print('predict', pred.shape)\r\n",
        "    # Compute train FAR/FRR\r\n",
        "    # add your code here\r\n",
        "    trainFAR, trainFRR = get_metrics(train_labels, pred)\r\n",
        "    print('trainFAR, trainFRR',trainFAR, trainFRR)\r\n",
        "\r\n",
        "    # Make predictions for testing dataset\r\n",
        "    # add your code here\r\n",
        "    predictions_test = model.predict(test_data)\r\n",
        "\r\n",
        "    # Compute test FAR/FRR\r\n",
        "    # add your code here\r\n",
        "    testFAR, testFRR =get_metrics(test_labels, predictions_test)\r\n",
        "    print('testFAR, testFRR',testFAR, testFRR)\r\n",
        "\r\n",
        "\r\n",
        "    return trainFAR, trainFRR, testFAR, testFRR"
      ],
      "execution_count": 13,
      "outputs": []
    },
    {
      "cell_type": "code",
      "metadata": {
        "colab": {
          "base_uri": "https://localhost:8080/"
        },
        "id": "bmE6wHA9HRtK",
        "outputId": "9b2e33a0-3793-477e-c840-f9cacd86d4ff"
      },
      "source": [
        "# Check if it works :)\r\n",
        "trainFAR, trainFRR, testFAR, testFRR = evaluate(classifierType, hyperparameters, features, labels)\r\n",
        "print('Train:')\r\n",
        "print('\\tFAR:', trainFAR)\r\n",
        "print('\\tFRR:', trainFRR)\r\n",
        "\r\n",
        "print('Test:')\r\n",
        "print('\\tFAR:', testFAR)\r\n",
        "print('\\tFRR:', testFRR)"
      ],
      "execution_count": 14,
      "outputs": [
        {
          "output_type": "stream",
          "text": [
            "Train set shape: (923, 1024)\n",
            "Train labels shape: (923,)\n",
            "Test set shape: (308, 1024)\n",
            "Test labels shape: (308,)\n",
            "predict (923,)\n",
            "tn, fp, fn, tp 782 0 0 141\n",
            "trainFAR, trainFRR 0.0 0.0\n",
            "tn, fp, fn, tp 268 5 8 27\n",
            "testFAR, testFRR 22.857142857142858 1.8315018315018317\n",
            "Train:\n",
            "\tFAR: 0.0\n",
            "\tFRR: 0.0\n",
            "Test:\n",
            "\tFAR: 22.857142857142858\n",
            "\tFRR: 1.8315018315018317\n"
          ],
          "name": "stdout"
        }
      ]
    },
    {
      "cell_type": "markdown",
      "metadata": {
        "id": "Vj41g40zlW5F"
      },
      "source": [
        "# Final Task"
      ]
    },
    {
      "cell_type": "markdown",
      "metadata": {
        "id": "DRdSvqKtl8C9"
      },
      "source": [
        " **SVM**"
      ]
    },
    {
      "cell_type": "code",
      "metadata": {
        "id": "rBqIuqiIHYHe"
      },
      "source": [
        "train_data, test_data, train_labels, test_labels = train_test_split(features, labels)\r\n",
        "#X_train, X_test, y_train, y_test"
      ],
      "execution_count": 15,
      "outputs": []
    },
    {
      "cell_type": "code",
      "metadata": {
        "id": "pw8rA68BlWO6"
      },
      "source": [
        "from sklearn import svm"
      ],
      "execution_count": 16,
      "outputs": []
    },
    {
      "cell_type": "code",
      "metadata": {
        "id": "5Y6MtltbnKA4"
      },
      "source": [
        "clf = svm.SVC(kernel='linear')\r\n",
        "clf.fit(train_data, train_labels)\r\n",
        "test_labels_pred = clf.predict(test_data)\r\n",
        "train_labels_pred = clf.predict(train_data)"
      ],
      "execution_count": 17,
      "outputs": []
    },
    {
      "cell_type": "code",
      "metadata": {
        "colab": {
          "base_uri": "https://localhost:8080/"
        },
        "id": "HXqsw01FpFwG",
        "outputId": "a401543c-78ce-4cf1-f403-ae6e71001b91"
      },
      "source": [
        "print(\"Accuracy test\", sklearn.metrics.accuracy_score(test_labels, test_labels_pred))\r\n",
        "print(\"Accuracy train\", sklearn.metrics.accuracy_score(train_labels, train_labels_pred))"
      ],
      "execution_count": 18,
      "outputs": [
        {
          "output_type": "stream",
          "text": [
            "Accuracy test 0.9805194805194806\n",
            "Accuracy train 0.9978331527627302\n"
          ],
          "name": "stdout"
        }
      ]
    },
    {
      "cell_type": "code",
      "metadata": {
        "id": "Xx4SezV1pge_",
        "colab": {
          "base_uri": "https://localhost:8080/"
        },
        "outputId": "e9d1e124-5823-40a5-fe9c-29935d97d241"
      },
      "source": [
        "trainFAR, trainFRR = get_metrics(train_labels, train_labels_pred)\r\n",
        "testFAR, testFRR = get_metrics(test_labels, test_labels_pred)"
      ],
      "execution_count": 19,
      "outputs": [
        {
          "output_type": "stream",
          "text": [
            "tn, fp, fn, tp 796 2 0 125\n",
            "tn, fp, fn, tp 255 2 4 47\n"
          ],
          "name": "stdout"
        }
      ]
    },
    {
      "cell_type": "code",
      "metadata": {
        "colab": {
          "base_uri": "https://localhost:8080/"
        },
        "id": "SscudWHBqmS4",
        "outputId": "ccf12c41-2f1c-4ec0-8aec-19866f75c213"
      },
      "source": [
        "print('Train:')\r\n",
        "print('\\tFAR:', trainFAR)\r\n",
        "print('\\tFRR:', trainFRR)\r\n",
        "\r\n",
        "print('Test:')\r\n",
        "print('\\tFAR:', testFAR)\r\n",
        "print('\\tFRR:', testFRR)"
      ],
      "execution_count": 20,
      "outputs": [
        {
          "output_type": "stream",
          "text": [
            "Train:\n",
            "\tFAR: 0.0\n",
            "\tFRR: 0.2506265664160401\n",
            "Test:\n",
            "\tFAR: 7.8431372549019605\n",
            "\tFRR: 0.7782101167315175\n"
          ],
          "name": "stdout"
        }
      ]
    },
    {
      "cell_type": "markdown",
      "metadata": {
        "id": "hCM0Xdqjqy9O"
      },
      "source": [
        "**K-Nearest Neighbors**"
      ]
    },
    {
      "cell_type": "code",
      "metadata": {
        "id": "7mY6mE71rSvU"
      },
      "source": [
        "train_data, test_data, train_labels, test_labels = train_test_split(features, labels)\r\n",
        "#X_train, X_test, y_train, y_test"
      ],
      "execution_count": 21,
      "outputs": []
    },
    {
      "cell_type": "code",
      "metadata": {
        "id": "jjNiFURurWeF"
      },
      "source": [
        "from sklearn.neighbors import KNeighborsClassifier"
      ],
      "execution_count": 22,
      "outputs": []
    },
    {
      "cell_type": "code",
      "metadata": {
        "colab": {
          "base_uri": "https://localhost:8080/"
        },
        "id": "ZuVuV9ziriDz",
        "outputId": "e9ba2095-7c83-4a48-ffb2-7ad8e3a8245a"
      },
      "source": [
        "knn = KNeighborsClassifier(n_neighbors=5)\r\n",
        "knn.fit(train_data, train_labels)"
      ],
      "execution_count": 23,
      "outputs": [
        {
          "output_type": "execute_result",
          "data": {
            "text/plain": [
              "KNeighborsClassifier(algorithm='auto', leaf_size=30, metric='minkowski',\n",
              "                     metric_params=None, n_jobs=None, n_neighbors=5, p=2,\n",
              "                     weights='uniform')"
            ]
          },
          "metadata": {
            "tags": []
          },
          "execution_count": 23
        }
      ]
    },
    {
      "cell_type": "code",
      "metadata": {
        "id": "AkyDMrWhrmta"
      },
      "source": [
        "test_labels_pred = knn.predict(test_data)\r\n",
        "train_labels_pred = knn.predict(train_data)"
      ],
      "execution_count": 24,
      "outputs": []
    },
    {
      "cell_type": "code",
      "metadata": {
        "colab": {
          "base_uri": "https://localhost:8080/"
        },
        "id": "O2qwDWnyr6rU",
        "outputId": "4301fb69-0cc3-4115-f9f4-4bb7bcfa7dd9"
      },
      "source": [
        "print(\"Accuracy test\", sklearn.metrics.accuracy_score(test_labels, test_labels_pred))\r\n",
        "print(\"Accuracy train\", sklearn.metrics.accuracy_score(train_labels, train_labels_pred))"
      ],
      "execution_count": 25,
      "outputs": [
        {
          "output_type": "stream",
          "text": [
            "Accuracy test 0.9642857142857143\n",
            "Accuracy train 0.9772481040086674\n"
          ],
          "name": "stdout"
        }
      ]
    },
    {
      "cell_type": "code",
      "metadata": {
        "colab": {
          "base_uri": "https://localhost:8080/"
        },
        "id": "oc9UCQG2sCkU",
        "outputId": "6b7a2976-76b3-477e-cbbe-eff3c88b3be1"
      },
      "source": [
        "trainFAR, trainFRR = get_metrics(train_labels, train_labels_pred)\r\n",
        "testFAR, testFRR = get_metrics(test_labels, test_labels_pred)\r\n",
        "print('Train:')\r\n",
        "print('\\tFAR:', trainFAR)\r\n",
        "print('\\tFRR:', trainFRR)\r\n",
        "\r\n",
        "print('Test:')\r\n",
        "print('\\tFAR:', testFAR)\r\n",
        "print('\\tFRR:', testFRR)"
      ],
      "execution_count": 26,
      "outputs": [
        {
          "output_type": "stream",
          "text": [
            "tn, fp, fn, tp 771 18 3 131\n",
            "tn, fp, fn, tp 256 10 1 41\n",
            "Train:\n",
            "\tFAR: 2.2388059701492535\n",
            "\tFRR: 2.2813688212927756\n",
            "Test:\n",
            "\tFAR: 2.380952380952381\n",
            "\tFRR: 3.7593984962406015\n"
          ],
          "name": "stdout"
        }
      ]
    },
    {
      "cell_type": "markdown",
      "metadata": {
        "id": "T4GJHUdjtwVM"
      },
      "source": [
        "**Logistic Regression**"
      ]
    },
    {
      "cell_type": "code",
      "metadata": {
        "id": "rOMc8II3stkR"
      },
      "source": [
        "train_data, test_data, train_labels, test_labels = train_test_split(features, labels)\r\n",
        "#X_train, X_test, y_train, y_test"
      ],
      "execution_count": 27,
      "outputs": []
    },
    {
      "cell_type": "code",
      "metadata": {
        "id": "tr6KkcRTuC4g"
      },
      "source": [
        "from sklearn.linear_model import LogisticRegression"
      ],
      "execution_count": 28,
      "outputs": []
    },
    {
      "cell_type": "code",
      "metadata": {
        "id": "M_5Rst5iuJ_0"
      },
      "source": [
        "lg = LogisticRegression()"
      ],
      "execution_count": 29,
      "outputs": []
    },
    {
      "cell_type": "code",
      "metadata": {
        "colab": {
          "base_uri": "https://localhost:8080/"
        },
        "id": "zYJmAppNuMNO",
        "outputId": "ee7aef82-e48c-4463-91e6-7cb195098190"
      },
      "source": [
        "lg.fit(train_data, train_labels)"
      ],
      "execution_count": 30,
      "outputs": [
        {
          "output_type": "execute_result",
          "data": {
            "text/plain": [
              "LogisticRegression(C=1.0, class_weight=None, dual=False, fit_intercept=True,\n",
              "                   intercept_scaling=1, l1_ratio=None, max_iter=100,\n",
              "                   multi_class='auto', n_jobs=None, penalty='l2',\n",
              "                   random_state=None, solver='lbfgs', tol=0.0001, verbose=0,\n",
              "                   warm_start=False)"
            ]
          },
          "metadata": {
            "tags": []
          },
          "execution_count": 30
        }
      ]
    },
    {
      "cell_type": "code",
      "metadata": {
        "id": "pd-ivGmTuRzw"
      },
      "source": [
        "test_labels_pred = lg.predict(test_data)\r\n",
        "train_labels_pred = lg.predict(train_data)"
      ],
      "execution_count": 31,
      "outputs": []
    },
    {
      "cell_type": "code",
      "metadata": {
        "colab": {
          "base_uri": "https://localhost:8080/"
        },
        "id": "ggM6aCpFucyx",
        "outputId": "bc54547f-9e1d-4ac0-a695-b4c921a81aaa"
      },
      "source": [
        "print(\"Accuracy test\", sklearn.metrics.accuracy_score(test_labels, test_labels_pred))\r\n",
        "print(\"Accuracy train\", sklearn.metrics.accuracy_score(train_labels, train_labels_pred))"
      ],
      "execution_count": 32,
      "outputs": [
        {
          "output_type": "stream",
          "text": [
            "Accuracy test 0.9837662337662337\n",
            "Accuracy train 0.9945828819068255\n"
          ],
          "name": "stdout"
        }
      ]
    },
    {
      "cell_type": "code",
      "metadata": {
        "colab": {
          "base_uri": "https://localhost:8080/"
        },
        "id": "ovbq20DJufVQ",
        "outputId": "16018e0f-5b0b-4446-db8a-036c5e19bcd7"
      },
      "source": [
        "trainFAR, trainFRR = get_metrics(train_labels, train_labels_pred)\r\n",
        "testFAR, testFRR = get_metrics(test_labels, test_labels_pred)\r\n",
        "print('Train:')\r\n",
        "print('\\tFAR:', trainFAR)\r\n",
        "print('\\tFRR:', trainFRR)\r\n",
        "\r\n",
        "print('Test:')\r\n",
        "print('\\tFAR:', testFAR)\r\n",
        "print('\\tFRR:', testFRR)"
      ],
      "execution_count": 33,
      "outputs": [
        {
          "output_type": "stream",
          "text": [
            "tn, fp, fn, tp 782 3 2 136\n",
            "tn, fp, fn, tp 269 1 4 34\n",
            "Train:\n",
            "\tFAR: 1.4492753623188406\n",
            "\tFRR: 0.3821656050955414\n",
            "Test:\n",
            "\tFAR: 10.526315789473683\n",
            "\tFRR: 0.3703703703703704\n"
          ],
          "name": "stdout"
        }
      ]
    },
    {
      "cell_type": "code",
      "metadata": {
        "id": "ky7_Vh1Jui9G"
      },
      "source": [
        ""
      ],
      "execution_count": 33,
      "outputs": []
    }
  ]
}