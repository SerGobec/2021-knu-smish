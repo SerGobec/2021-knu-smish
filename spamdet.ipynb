{
 "cells": [
  {
   "cell_type": "code",
   "execution_count": 57,
   "id": "changing-bidding",
   "metadata": {},
   "outputs": [],
   "source": [
    "import tensorflow_hub as hub\n",
    "import tensorflow.compat.v1 as tf\n",
    "tf.disable_eager_execution()\n",
    "import numpy as np\n",
    "import pandas as pd\n",
    "import sklearn\n",
    "from sklearn.ensemble import RandomForestClassifier\n",
    "from sklearn.metrics import confusion_matrix"
   ]
  },
  {
   "cell_type": "code",
   "execution_count": 91,
   "id": "fresh-semiconductor",
   "metadata": {},
   "outputs": [],
   "source": [
    "# specify location your dataset here\n",
    "DATA_PATH = r\"C:\\Users\\nadto\\OneDrive\\Desktop\\list.txt\"\n",
    "\n",
    "# give name to label-column and text-column\n",
    "COLUMN_LABEL = \"label\"\n",
    "COLUMN_TEXT = \"text\"\n",
    "\n",
    "# these are labels that indicate the type of message.\n",
    "LABEL_LEGIT = 'LEGI'\n",
    "LABEL_SPAM = 'SPAM'\n",
    "LABEL_SMISHING = 'SMIS'"
   ]
  },
  {
   "cell_type": "code",
   "execution_count": 92,
   "id": "affiliated-sudan",
   "metadata": {},
   "outputs": [
    {
     "name": "stdout",
     "output_type": "stream",
     "text": [
      "Total size: 1004\n",
      "Legit messages: 22\n",
      "Spam messages: 8\n",
      "Smishing messages: 0\n"
     ]
    }
   ],
   "source": [
    "dataset = pd.read_csv(DATA_PATH, sep='\\t', names=[COLUMN_LABEL, COLUMN_TEXT], header=None)\n",
    "print('Total size:', dataset.shape[0])\n",
    "print('Legit messages:', dataset[dataset[COLUMN_LABEL] == LABEL_LEGIT].shape[0])\n",
    "print('Spam messages:', dataset[dataset[COLUMN_LABEL] == LABEL_SPAM].shape[0])\n",
    "print('Smishing messages:', dataset[dataset[COLUMN_LABEL] == LABEL_SMISHING].shape[0])"
   ]
  },
  {
   "cell_type": "code",
   "execution_count": 82,
   "id": "viral-property",
   "metadata": {},
   "outputs": [
    {
     "name": "stdout",
     "output_type": "stream",
     "text": [
      "Smishing messages: 0\n"
     ]
    }
   ],
   "source": [
    "dataset = dataset[((dataset[COLUMN_LABEL] == LABEL_LEGIT) | (dataset[COLUMN_LABEL] == LABEL_SPAM))]\n",
    "\n",
    "# Let's check if they are gone\n",
    "print('Smishing messages:', dataset[dataset[COLUMN_LABEL] == LABEL_SMISHING].shape[0])"
   ]
  },
  {
   "cell_type": "code",
   "execution_count": 83,
   "id": "civilian-terrace",
   "metadata": {},
   "outputs": [],
   "source": [
    "def messages2vectors(messages):\n",
    "    '''\n",
    "    Transforms single message into feature-vector;\n",
    "    Parameters:\n",
    "        messages    -   array of strings;\n",
    "    Returns:\n",
    "        features    -   array of feature-vectors;   \n",
    "    '''\n",
    "\n",
    "    elmo = hub.Module(\"https://tfhub.dev/google/elmo/1\")\n",
    "\n",
    "    features = np.zeros((0, 1024))\n",
    "    n = 100\n",
    "    l = int(len(messages) / n) if len(messages) % n == 0 else int(len(messages) / n) + 1\n",
    "    for i in range(l):\n",
    "\n",
    "        if (i + 1) * n < len(messages):\n",
    "            right = (i + 1) * n\n",
    "            embedds = elmo(messages[int(i * n) : right], signature=\"default\", as_dict=True)[\"default\"]\n",
    "        else:\n",
    "            embedds = elmo(messages[:len(messages) - int(i * n)], signature=\"default\", as_dict=True)[\"default\"] \n",
    "\n",
    "        with tf.Session() as sess:\n",
    "            sess.run(tf.global_variables_initializer())\n",
    "            embedds = sess.run(embedds)\n",
    "            features = np.concatenate([features, embedds])\n",
    "\n",
    "    return features"
   ]
  },
  {
   "cell_type": "code",
   "execution_count": 84,
   "id": "impossible-democrat",
   "metadata": {},
   "outputs": [],
   "source": [
    "def convert_labels(labels_raw):\n",
    "    '''\n",
    "    Transforms labels into numerical values;\n",
    "    Parameters:\n",
    "        labels_raw    -   array of text-labels;\n",
    "    Returns:\n",
    "        features    -   array of numerical labels;   \n",
    "    ''' \n",
    "\n",
    "    # add your code here\n",
    "    label = []\n",
    "    for lab in labels_raw:\n",
    "        if lab == 'LEGI':\n",
    "            label.append(0)\n",
    "        elif lab == 'SPAM':\n",
    "            label.append(1)\n",
    "    labels = np.array(label)\n",
    "\n",
    "    return labels"
   ]
  },
  {
   "cell_type": "code",
   "execution_count": 85,
   "id": "interior-stick",
   "metadata": {},
   "outputs": [
    {
     "name": "stdout",
     "output_type": "stream",
     "text": [
      "INFO:tensorflow:Saver not created because there are no variables in the graph to restore\n"
     ]
    },
    {
     "name": "stderr",
     "output_type": "stream",
     "text": [
      "INFO:tensorflow:Saver not created because there are no variables in the graph to restore\n"
     ]
    },
    {
     "name": "stdout",
     "output_type": "stream",
     "text": [
      "(30, 1024)\n",
      "(30,)\n"
     ]
    }
   ],
   "source": [
    "features = messages2vectors(dataset[COLUMN_TEXT])\n",
    "labels = convert_labels(dataset[COLUMN_LABEL])\n",
    "print(features.shape)\n",
    "print(labels.shape)"
   ]
  },
  {
   "cell_type": "code",
   "execution_count": 86,
   "id": "swiss-building",
   "metadata": {},
   "outputs": [],
   "source": [
    "def split_data(features, labels, ratio=0.7):\n",
    "    '''\n",
    "    Splits dataset into train/test parts using given ratio;\n",
    "    Parameters:\n",
    "        data    -   array of features;\n",
    "        labels  -   array of corresponding labels;\n",
    "        ratio   -   train/test size ratio;\n",
    "    Returns:\n",
    "        train_data      -   array of training features;   \n",
    "        train_labels    -   array of training labels; \n",
    "        test_data       -   array of testing features; \n",
    "        test_labels     -   array of testing labels; \n",
    "    '''    \n",
    "\n",
    "\n",
    "    positive_data = features[labels == 1] # all spam features\n",
    "    negative_data = features[labels == 0] # all legit features\n",
    "\n",
    "    # We shuffle arrays to get random samples later\n",
    "    random_indecies_positive = np.arange(positive_data.shape[0])\n",
    "    np.random.shuffle(random_indecies_positive)\n",
    "    random_indecies_negative = np.arange(negative_data.shape[0])\n",
    "    np.random.shuffle(random_indecies_negative)\n",
    "\n",
    "    n_positive_train = int(positive_data.shape[0] * ratio)\n",
    "    n_negative_train = int(negative_data.shape[0] * ratio)\n",
    "\n",
    "    # Training data are all indecies in 'ratio' part of shuffled indecies\n",
    "    train_data = np.concatenate([positive_data[random_indecies_positive[:n_positive_train]], \n",
    "                                negative_data[random_indecies_negative[:n_negative_train]]])\n",
    "    \n",
    "    train_labels = np.asarray([1] * n_positive_train + [0] * n_negative_train)\n",
    "\n",
    "    # Testing data are all indecies that remain\n",
    "    test_data = np.concatenate([positive_data[random_indecies_positive[n_positive_train:]], \n",
    "                                negative_data[random_indecies_negative[n_negative_train:]]])\n",
    "\n",
    "    test_labels = np.asarray([1] * (positive_data.shape[0]  - n_positive_train) + [0] * (negative_data.shape[0] - n_negative_train))\n",
    "\n",
    "    return train_data, train_labels, test_data, test_labels"
   ]
  },
  {
   "cell_type": "code",
   "execution_count": 87,
   "id": "minor-edgar",
   "metadata": {},
   "outputs": [],
   "source": [
    "def get_metrics(labels, predictions):\n",
    "    '''\n",
    "    Computes metrics;\n",
    "    Parameters:\n",
    "        labels    -   array of labels;\n",
    "        predictions  -   array of predictions;\n",
    "    Returns:\n",
    "        FAR -   False Acceptance Rate;\n",
    "        FRR -   False Rejection Rate;\n",
    "    '''  \n",
    "    # add your code here\n",
    "    TN, FP, FN, TP = confusion_matrix(labels, predictions).ravel()\n",
    "    FAR = (FP / (FP + TN)) * 100\n",
    "    FRR = (FN / (TP + FN)) * 100\n",
    "    return FAR, FRR"
   ]
  },
  {
   "cell_type": "code",
   "execution_count": 88,
   "id": "thermal-payment",
   "metadata": {},
   "outputs": [],
   "source": [
    "def evaluate(classifierType, hyperparameters, features, labels):\n",
    "    '''\n",
    "    Splits dataset into train/test parts using given ratio;\n",
    "    Parameters:\n",
    "        classifierType      -   type of ML algorithm to use;\n",
    "        hyperparameters     -   dictionary of model's parameters;\n",
    "        features            -   array of features;\n",
    "        labels              -   array of labels\n",
    "    Returns:\n",
    "        trainFAR    -   False Acceptance Rate for train dataset;\n",
    "        trainFRR    -   False Rejection Rate for train dataset;\n",
    "        testFAR     -   False Acceptance Rate for test dataset;\n",
    "        testFRR    -   False Rejection Rate for test dataset;\n",
    "    '''    \n",
    "\n",
    "    model = classifierType(**hyperparameters)\n",
    "\n",
    "    # Split data\n",
    "    # add your code here\n",
    "    train_data, train_labels, test_data, test_labels = split_data(features, labels)\n",
    "\n",
    "    print('Train set shape:', train_data.shape)\n",
    "    print('Train labels shape:', train_labels.shape)\n",
    "    print('Test set shape:', test_data.shape)\n",
    "    print('Test labels shape:', test_labels.shape)\n",
    "    \n",
    "    # Fit your model\n",
    "    # add your code here\n",
    "    fitmod= model.fit(train_data, train_labels)\n",
    "\n",
    "    # Make predictions for training dataset\n",
    "    # add your code here\n",
    "    predtrain = fitmod.predict(train_data)\n",
    "\n",
    "    # Compute train FAR/FRR\n",
    "    # add your code here\n",
    "    trainFAR, trainFRR = get_metrics(train_labels, predtrain)\n",
    "\n",
    "    # Make predictions for testing dataset\n",
    "    # add your code here\n",
    "    predictions_test = fitmod.predict(test_data)\n",
    "\n",
    "    # Compute test FAR/FRR\n",
    "    # add your code here\n",
    "    testFAR, testFRR = get_metrics(test_labels, predictions_test)\n",
    "\n",
    "    return trainFAR, trainFRR, testFAR, testFRR"
   ]
  },
  {
   "cell_type": "code",
   "execution_count": 89,
   "id": "private-local",
   "metadata": {},
   "outputs": [],
   "source": [
    "classifierType = sklearn.ensemble.RandomForestClassifier\n",
    "hyperparameters = {'n_estimators' : 100,\n",
    "                'criterion' : 'gini',\n",
    "                'max_depth' : None,\n",
    "                'min_samples_split' : 2}"
   ]
  },
  {
   "cell_type": "code",
   "execution_count": 90,
   "id": "filled-landscape",
   "metadata": {},
   "outputs": [
    {
     "name": "stdout",
     "output_type": "stream",
     "text": [
      "Train set shape: (20, 1024)\n",
      "Train labels shape: (20,)\n",
      "Test set shape: (10, 1024)\n",
      "Test labels shape: (10,)\n",
      "Train:\n",
      "\tFAR: 0.0\n",
      "\tFRR: 0.0\n",
      "Test:\n",
      "\tFAR: 0.0\n",
      "\tFRR: 33.33333333333333\n"
     ]
    }
   ],
   "source": [
    "# Check if it works :)\n",
    "trainFAR, trainFRR, testFAR, testFRR = evaluate(classifierType, hyperparameters, features, labels)\n",
    "print('Train:')\n",
    "print('\\tFAR:', trainFAR)\n",
    "print('\\tFRR:', trainFRR)\n",
    "\n",
    "print('Test:')\n",
    "print('\\tFAR:', testFAR)\n",
    "print('\\tFRR:', testFRR)"
   ]
  },
  {
   "cell_type": "code",
   "execution_count": null,
   "id": "integral-jacket",
   "metadata": {},
   "outputs": [],
   "source": []
  },
  {
   "cell_type": "code",
   "execution_count": null,
   "id": "underlying-laser",
   "metadata": {},
   "outputs": [],
   "source": []
  }
 ],
 "metadata": {
  "kernelspec": {
   "display_name": "Python 3",
   "language": "python",
   "name": "python3"
  },
  "language_info": {
   "codemirror_mode": {
    "name": "ipython",
    "version": 3
   },
   "file_extension": ".py",
   "mimetype": "text/x-python",
   "name": "python",
   "nbconvert_exporter": "python",
   "pygments_lexer": "ipython3",
   "version": "3.8.7"
  }
 },
 "nbformat": 4,
 "nbformat_minor": 5
}
