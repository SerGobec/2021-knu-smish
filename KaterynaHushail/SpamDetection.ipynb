{
 "cells": [
  {
   "cell_type": "code",
   "execution_count": 8,
   "id": "changing-bidding",
   "metadata": {},
   "outputs": [],
   "source": [
    "import tensorflow_hub as hub\n",
    "import tensorflow.compat.v1 as tf\n",
    "tf.disable_eager_execution()\n",
    "import numpy as np\n",
    "import pandas as pd\n",
    "import sklearn\n",
    "from sklearn.ensemble import RandomForestClassifier"
   ]
  },
  {
   "cell_type": "code",
   "execution_count": 11,
   "id": "earlier-indiana",
   "metadata": {},
   "outputs": [],
   "source": [
    "# specify location your dataset here\n",
    "DATA_PATH = r\"C:\\Users\\nadto\\OneDrive\\Desktop\\list.txt\"\n",
    "\n",
    "# give name to label-column and text-column\n",
    "COLUMN_LABEL = \"label\"\n",
    "COLUMN_TEXT = \"text\"\n",
    "\n",
    "# these are labels that indicate the type of message.\n",
    "LABEL_LEGIT = 'LEGI'\n",
    "LABEL_SPAM = 'SPAM'\n",
    "LABEL_SMISHING = 'SMIS'"
   ]
  },
  {
   "cell_type": "code",
   "execution_count": 12,
   "id": "sexual-windows",
   "metadata": {},
   "outputs": [
    {
     "name": "stdout",
     "output_type": "stream",
     "text": [
      "Total size: 1004\n",
      "Legit messages: 0\n",
      "Spam messages: 0\n",
      "Smishing messages: 0\n"
     ]
    }
   ],
   "source": [
    "dataset = pd.read_csv(DATA_PATH, sep='\\t', names=[COLUMN_LABEL, COLUMN_TEXT], header=None)\n",
    "print('Total size:', dataset.shape[0])\n",
    "print('Legit messages:', dataset[dataset[COLUMN_LABEL] == LABEL_LEGIT].shape[0])\n",
    "print('Spam messages:', dataset[dataset[COLUMN_LABEL] == LABEL_SPAM].shape[0])\n",
    "print('Smishing messages:', dataset[dataset[COLUMN_LABEL] == LABEL_SMISHING].shape[0])"
   ]
  },
  {
   "cell_type": "code",
   "execution_count": 13,
   "id": "irish-parts",
   "metadata": {},
   "outputs": [
    {
     "name": "stdout",
     "output_type": "stream",
     "text": [
      "Smishing messages: 0\n"
     ]
    }
   ],
   "source": [
    "dataset = dataset[((dataset[COLUMN_LABEL] == LABEL_LEGIT) | (dataset[COLUMN_LABEL] == LABEL_SPAM))]\n",
    "\n",
    "# Let's check if they are gone\n",
    "print('Smishing messages:', dataset[dataset[COLUMN_LABEL] == LABEL_SMISHING].shape[0])"
   ]
  },
  {
   "cell_type": "code",
   "execution_count": 15,
   "id": "ready-investor",
   "metadata": {},
   "outputs": [],
   "source": [
    "def messages2vectors(messages):\n",
    "    '''\n",
    "    Transforms single message into feature-vector;\n",
    "    Parameters:\n",
    "        messages    -   array of strings;\n",
    "    Returns:\n",
    "        features    -   array of feature-vectors;   \n",
    "    '''\n",
    "\n",
    "    elmo = hub.Module(\"https://tfhub.dev/google/elmo/1\")\n",
    "\n",
    "    features = np.zeros((0, 1024))\n",
    "    n = 100\n",
    "    l = int(len(messages) / n) if len(messages) % n == 0 else int(len(messages) / n) + 1\n",
    "    for i in range(l):\n",
    "\n",
    "        if (i + 1) * n < len(messages):\n",
    "            right = (i + 1) * n\n",
    "            embedds = elmo(messages[int(i * n) : right], signature=\"default\", as_dict=True)[\"default\"]\n",
    "        else:\n",
    "            embedds = elmo(messages[:len(messages) - int(i * n)], signature=\"default\", as_dict=True)[\"default\"] \n",
    "\n",
    "        with tf.Session() as sess:\n",
    "            sess.run(tf.global_variables_initializer())\n",
    "            embedds = sess.run(embedds)\n",
    "            features = np.concatenate([features, embedds])\n",
    "\n",
    "    return features"
   ]
  },
  {
   "cell_type": "code",
   "execution_count": 34,
   "id": "unnecessary-championship",
   "metadata": {},
   "outputs": [],
   "source": [
    "def convert_labels(labels_raw):\n",
    "    '''\n",
    "    Transforms labels into numerical values;\n",
    "    Parameters:\n",
    "        labels_raw    -   array of text-labels;\n",
    "    Returns:\n",
    "        features    -   array of numerical labels;   \n",
    "    ''' \n",
    "\n",
    "    # add your code here\n",
    "    label = []\n",
    "    for lab in labels_raw:\n",
    "        if lab == 'LEGI':\n",
    "            label.append(0)\n",
    "        elif lab == 'SPAM':\n",
    "            label.append(1)\n",
    "    labels = np.array(label)\n",
    "\n",
    "    return labels"
   ]
  },
  {
   "cell_type": "code",
   "execution_count": 35,
   "id": "hollywood-raising",
   "metadata": {},
   "outputs": [
    {
     "name": "stdout",
     "output_type": "stream",
     "text": [
      "(0, 1024)\n",
      "(0,)\n"
     ]
    }
   ],
   "source": [
    "features = messages2vectors(dataset[COLUMN_TEXT])\n",
    "labels = convert_labels(dataset[COLUMN_LABEL])\n",
    "print(features.shape)\n",
    "print(labels.shape)"
   ]
  },
  {
   "cell_type": "code",
   "execution_count": 36,
   "id": "arranged-landing",
   "metadata": {},
   "outputs": [],
   "source": [
    "def split_data(features, labels, ratio=0.7):\n",
    "    '''\n",
    "    Splits dataset into train/test parts using given ratio;\n",
    "    Parameters:\n",
    "        data    -   array of features;\n",
    "        labels  -   array of corresponding labels;\n",
    "        ratio   -   train/test size ratio;\n",
    "    Returns:\n",
    "        train_data      -   array of training features;   \n",
    "        train_labels    -   array of training labels; \n",
    "        test_data       -   array of testing features; \n",
    "        test_labels     -   array of testing labels; \n",
    "    '''    \n",
    "\n",
    "\n",
    "    positive_data = features[labels == 1] # all spam features\n",
    "    negative_data = features[labels == 0] # all legit features\n",
    "\n",
    "    # We shuffle arrays to get random samples later\n",
    "    random_indecies_positive = np.arange(positive_data.shape[0])\n",
    "    np.random.shuffle(random_indecies_positive)\n",
    "    random_indecies_negative = np.arange(negative_data.shape[0])\n",
    "    np.random.shuffle(random_indecies_negative)\n",
    "\n",
    "    n_positive_train = int(positive_data.shape[0] * ratio)\n",
    "    n_negative_train = int(negative_data.shape[0] * ratio)\n",
    "\n",
    "    # Training data are all indecies in 'ratio' part of shuffled indecies\n",
    "    train_data = np.concatenate([positive_data[random_indecies_positive[:n_positive_train]], \n",
    "                                negative_data[random_indecies_negative[:n_negative_train]]])\n",
    "    \n",
    "    train_labels = np.asarray([1] * n_positive_train + [0] * n_negative_train)\n",
    "\n",
    "    # Testing data are all indecies that remain\n",
    "    test_data = np.concatenate([positive_data[random_indecies_positive[n_positive_train:]], \n",
    "                                negative_data[random_indecies_negative[n_negative_train:]]])\n",
    "\n",
    "    test_labels = np.asarray([1] * (positive_data.shape[0]  - n_positive_train) + [0] * (negative_data.shape[0] - n_negative_train))\n",
    "\n",
    "    return train_data, train_labels, test_data, test_labels"
   ]
  },
  {
   "cell_type": "code",
   "execution_count": 37,
   "id": "covered-period",
   "metadata": {},
   "outputs": [],
   "source": [
    "def get_metrics(labels, predictions):\n",
    "    '''\n",
    "    Computes metrics;\n",
    "    Parameters:\n",
    "        labels    -   array of labels;\n",
    "        predictions  -   array of predictions;\n",
    "    Returns:\n",
    "        FAR -   False Acceptance Rate;\n",
    "        FRR -   False Rejection Rate;\n",
    "    '''  \n",
    "    # add your code here\n",
    "    TN, FP, FN, TP = confusion_matrix(labels, predictions).ravel()\n",
    "    FAR = (FP / (FP + TN)) * 100\n",
    "    FRR = (FN / (TP + FN)) * 100\n",
    "    return FAR, FRR"
   ]
  },
  {
   "cell_type": "code",
   "execution_count": 41,
   "id": "reserved-virus",
   "metadata": {},
   "outputs": [],
   "source": [
    "def evaluate(classifierType, hyperparameters, features, labels):\n",
    "    '''\n",
    "    Splits dataset into train/test parts using given ratio;\n",
    "    Parameters:\n",
    "        classifierType      -   type of ML algorithm to use;\n",
    "        hyperparameters     -   dictionary of model's parameters;\n",
    "        features            -   array of features;\n",
    "        labels              -   array of labels\n",
    "    Returns:\n",
    "        trainFAR    -   False Acceptance Rate for train dataset;\n",
    "        trainFRR    -   False Rejection Rate for train dataset;\n",
    "        testFAR     -   False Acceptance Rate for test dataset;\n",
    "        testFRR    -   False Rejection Rate for test dataset;\n",
    "    '''    \n",
    "\n",
    "    model = classifierType(**hyperparameters)\n",
    "\n",
    "    # Split data\n",
    "    # add your code here\n",
    "    train_data, train_labels, test_data, test_labels = split_data(features, labels)\n",
    "\n",
    "    print('Train set shape:', train_data.shape)\n",
    "    print('Train labels shape:', train_labels.shape)\n",
    "    print('Test set shape:', test_data.shape)\n",
    "    print('Test labels shape:', test_labels.shape)\n",
    "    \n",
    "    # Fit your model\n",
    "    # add your code here\n",
    "    fitmod= model.fit(train_data, train_labels)\n",
    "\n",
    "    # Make predictions for training dataset\n",
    "    # add your code here\n",
    "    predtrain = fitmod.predict(train_data)\n",
    "\n",
    "    # Compute train FAR/FRR\n",
    "    # add your code here\n",
    "    trainFAR, trainFRR = get_metrics(train_labels, predtrain)\n",
    "\n",
    "    # Make predictions for testing dataset\n",
    "    # add your code here\n",
    "    predictions_test = fitmod.predict(test_data)\n",
    "\n",
    "    # Compute test FAR/FRR\n",
    "    # add your code here\n",
    "    testFAR, testFRR = get_metrics(test_labels, predictions_test)\n",
    "\n",
    "    return trainFAR, trainFRR, testFAR, testFRR"
   ]
  },
  {
   "cell_type": "code",
   "execution_count": 42,
   "id": "cooked-manhattan",
   "metadata": {},
   "outputs": [],
   "source": [
    "classifierType = sklearn.ensemble.RandomForestClassifier\n",
    "hyperparameters = {'n_estimators' : 100,\n",
    "                'criterion' : 'gini',\n",
    "                'max_depth' : None,\n",
    "                'min_samples_split' : 2}"
   ]
  },
  {
   "cell_type": "code",
   "execution_count": 44,
   "id": "powered-deviation",
   "metadata": {},
   "outputs": [
    {
     "name": "stdout",
     "output_type": "stream",
     "text": [
      "Train set shape: (0, 1024)\n",
      "Train labels shape: (0,)\n",
      "Test set shape: (0, 1024)\n",
      "Test labels shape: (0,)\n"
     ]
    },
    {
     "ename": "ValueError",
     "evalue": "Found array with 0 sample(s) (shape=(0, 1024)) while a minimum of 1 is required.",
     "output_type": "error",
     "traceback": [
      "\u001b[1;31m---------------------------------------------------------------------------\u001b[0m",
      "\u001b[1;31mValueError\u001b[0m                                Traceback (most recent call last)",
      "\u001b[1;32m<ipython-input-44-485d561149fe>\u001b[0m in \u001b[0;36m<module>\u001b[1;34m\u001b[0m\n\u001b[0;32m      1\u001b[0m \u001b[1;31m# Check if it works :)\u001b[0m\u001b[1;33m\u001b[0m\u001b[1;33m\u001b[0m\u001b[1;33m\u001b[0m\u001b[0m\n\u001b[1;32m----> 2\u001b[1;33m \u001b[0mtrainFAR\u001b[0m\u001b[1;33m,\u001b[0m \u001b[0mtrainFRR\u001b[0m\u001b[1;33m,\u001b[0m \u001b[0mtestFAR\u001b[0m\u001b[1;33m,\u001b[0m \u001b[0mtestFRR\u001b[0m \u001b[1;33m=\u001b[0m \u001b[0mevaluate\u001b[0m\u001b[1;33m(\u001b[0m\u001b[0mclassifierType\u001b[0m\u001b[1;33m,\u001b[0m \u001b[0mhyperparameters\u001b[0m\u001b[1;33m,\u001b[0m \u001b[0mfeatures\u001b[0m\u001b[1;33m,\u001b[0m \u001b[0mlabels\u001b[0m\u001b[1;33m)\u001b[0m\u001b[1;33m\u001b[0m\u001b[1;33m\u001b[0m\u001b[0m\n\u001b[0m\u001b[0;32m      3\u001b[0m \u001b[0mprint\u001b[0m\u001b[1;33m(\u001b[0m\u001b[1;34m'Train:'\u001b[0m\u001b[1;33m)\u001b[0m\u001b[1;33m\u001b[0m\u001b[1;33m\u001b[0m\u001b[0m\n\u001b[0;32m      4\u001b[0m \u001b[0mprint\u001b[0m\u001b[1;33m(\u001b[0m\u001b[1;34m'\\tFAR:'\u001b[0m\u001b[1;33m,\u001b[0m \u001b[0mtrainFAR\u001b[0m\u001b[1;33m)\u001b[0m\u001b[1;33m\u001b[0m\u001b[1;33m\u001b[0m\u001b[0m\n\u001b[0;32m      5\u001b[0m \u001b[0mprint\u001b[0m\u001b[1;33m(\u001b[0m\u001b[1;34m'\\tFRR:'\u001b[0m\u001b[1;33m,\u001b[0m \u001b[0mtrainFRR\u001b[0m\u001b[1;33m)\u001b[0m\u001b[1;33m\u001b[0m\u001b[1;33m\u001b[0m\u001b[0m\n",
      "\u001b[1;32m<ipython-input-41-ef5d4337207a>\u001b[0m in \u001b[0;36mevaluate\u001b[1;34m(classifierType, hyperparameters, features, labels)\u001b[0m\n\u001b[0;32m     33\u001b[0m     \u001b[1;31m# Fit your model\u001b[0m\u001b[1;33m\u001b[0m\u001b[1;33m\u001b[0m\u001b[1;33m\u001b[0m\u001b[0m\n\u001b[0;32m     34\u001b[0m     \u001b[1;31m# add your code here\u001b[0m\u001b[1;33m\u001b[0m\u001b[1;33m\u001b[0m\u001b[1;33m\u001b[0m\u001b[0m\n\u001b[1;32m---> 35\u001b[1;33m     \u001b[0mfitmod\u001b[0m\u001b[1;33m=\u001b[0m \u001b[0mmodel\u001b[0m\u001b[1;33m.\u001b[0m\u001b[0mfit\u001b[0m\u001b[1;33m(\u001b[0m\u001b[0mtrain_data\u001b[0m\u001b[1;33m,\u001b[0m \u001b[0mtrain_labels\u001b[0m\u001b[1;33m)\u001b[0m\u001b[1;33m\u001b[0m\u001b[1;33m\u001b[0m\u001b[0m\n\u001b[0m\u001b[0;32m     36\u001b[0m \u001b[1;33m\u001b[0m\u001b[0m\n\u001b[0;32m     37\u001b[0m     \u001b[1;31m# Make predictions for training dataset\u001b[0m\u001b[1;33m\u001b[0m\u001b[1;33m\u001b[0m\u001b[1;33m\u001b[0m\u001b[0m\n",
      "\u001b[1;32mc:\\users\\nadto\\appdata\\local\\programs\\python\\python38\\lib\\site-packages\\sklearn\\ensemble\\_forest.py\u001b[0m in \u001b[0;36mfit\u001b[1;34m(self, X, y, sample_weight)\u001b[0m\n\u001b[0;32m    302\u001b[0m                 \u001b[1;34m\"sparse multilabel-indicator for y is not supported.\"\u001b[0m\u001b[1;33m\u001b[0m\u001b[1;33m\u001b[0m\u001b[0m\n\u001b[0;32m    303\u001b[0m             )\n\u001b[1;32m--> 304\u001b[1;33m         X, y = self._validate_data(X, y, multi_output=True,\n\u001b[0m\u001b[0;32m    305\u001b[0m                                    accept_sparse=\"csc\", dtype=DTYPE)\n\u001b[0;32m    306\u001b[0m         \u001b[1;32mif\u001b[0m \u001b[0msample_weight\u001b[0m \u001b[1;32mis\u001b[0m \u001b[1;32mnot\u001b[0m \u001b[1;32mNone\u001b[0m\u001b[1;33m:\u001b[0m\u001b[1;33m\u001b[0m\u001b[1;33m\u001b[0m\u001b[0m\n",
      "\u001b[1;32mc:\\users\\nadto\\appdata\\local\\programs\\python\\python38\\lib\\site-packages\\sklearn\\base.py\u001b[0m in \u001b[0;36m_validate_data\u001b[1;34m(self, X, y, reset, validate_separately, **check_params)\u001b[0m\n\u001b[0;32m    431\u001b[0m                 \u001b[0my\u001b[0m \u001b[1;33m=\u001b[0m \u001b[0mcheck_array\u001b[0m\u001b[1;33m(\u001b[0m\u001b[0my\u001b[0m\u001b[1;33m,\u001b[0m \u001b[1;33m**\u001b[0m\u001b[0mcheck_y_params\u001b[0m\u001b[1;33m)\u001b[0m\u001b[1;33m\u001b[0m\u001b[1;33m\u001b[0m\u001b[0m\n\u001b[0;32m    432\u001b[0m             \u001b[1;32melse\u001b[0m\u001b[1;33m:\u001b[0m\u001b[1;33m\u001b[0m\u001b[1;33m\u001b[0m\u001b[0m\n\u001b[1;32m--> 433\u001b[1;33m                 \u001b[0mX\u001b[0m\u001b[1;33m,\u001b[0m \u001b[0my\u001b[0m \u001b[1;33m=\u001b[0m \u001b[0mcheck_X_y\u001b[0m\u001b[1;33m(\u001b[0m\u001b[0mX\u001b[0m\u001b[1;33m,\u001b[0m \u001b[0my\u001b[0m\u001b[1;33m,\u001b[0m \u001b[1;33m**\u001b[0m\u001b[0mcheck_params\u001b[0m\u001b[1;33m)\u001b[0m\u001b[1;33m\u001b[0m\u001b[1;33m\u001b[0m\u001b[0m\n\u001b[0m\u001b[0;32m    434\u001b[0m             \u001b[0mout\u001b[0m \u001b[1;33m=\u001b[0m \u001b[0mX\u001b[0m\u001b[1;33m,\u001b[0m \u001b[0my\u001b[0m\u001b[1;33m\u001b[0m\u001b[1;33m\u001b[0m\u001b[0m\n\u001b[0;32m    435\u001b[0m \u001b[1;33m\u001b[0m\u001b[0m\n",
      "\u001b[1;32mc:\\users\\nadto\\appdata\\local\\programs\\python\\python38\\lib\\site-packages\\sklearn\\utils\\validation.py\u001b[0m in \u001b[0;36minner_f\u001b[1;34m(*args, **kwargs)\u001b[0m\n\u001b[0;32m     61\u001b[0m             \u001b[0mextra_args\u001b[0m \u001b[1;33m=\u001b[0m \u001b[0mlen\u001b[0m\u001b[1;33m(\u001b[0m\u001b[0margs\u001b[0m\u001b[1;33m)\u001b[0m \u001b[1;33m-\u001b[0m \u001b[0mlen\u001b[0m\u001b[1;33m(\u001b[0m\u001b[0mall_args\u001b[0m\u001b[1;33m)\u001b[0m\u001b[1;33m\u001b[0m\u001b[1;33m\u001b[0m\u001b[0m\n\u001b[0;32m     62\u001b[0m             \u001b[1;32mif\u001b[0m \u001b[0mextra_args\u001b[0m \u001b[1;33m<=\u001b[0m \u001b[1;36m0\u001b[0m\u001b[1;33m:\u001b[0m\u001b[1;33m\u001b[0m\u001b[1;33m\u001b[0m\u001b[0m\n\u001b[1;32m---> 63\u001b[1;33m                 \u001b[1;32mreturn\u001b[0m \u001b[0mf\u001b[0m\u001b[1;33m(\u001b[0m\u001b[1;33m*\u001b[0m\u001b[0margs\u001b[0m\u001b[1;33m,\u001b[0m \u001b[1;33m**\u001b[0m\u001b[0mkwargs\u001b[0m\u001b[1;33m)\u001b[0m\u001b[1;33m\u001b[0m\u001b[1;33m\u001b[0m\u001b[0m\n\u001b[0m\u001b[0;32m     64\u001b[0m \u001b[1;33m\u001b[0m\u001b[0m\n\u001b[0;32m     65\u001b[0m             \u001b[1;31m# extra_args > 0\u001b[0m\u001b[1;33m\u001b[0m\u001b[1;33m\u001b[0m\u001b[1;33m\u001b[0m\u001b[0m\n",
      "\u001b[1;32mc:\\users\\nadto\\appdata\\local\\programs\\python\\python38\\lib\\site-packages\\sklearn\\utils\\validation.py\u001b[0m in \u001b[0;36mcheck_X_y\u001b[1;34m(X, y, accept_sparse, accept_large_sparse, dtype, order, copy, force_all_finite, ensure_2d, allow_nd, multi_output, ensure_min_samples, ensure_min_features, y_numeric, estimator)\u001b[0m\n\u001b[0;32m    812\u001b[0m         \u001b[1;32mraise\u001b[0m \u001b[0mValueError\u001b[0m\u001b[1;33m(\u001b[0m\u001b[1;34m\"y cannot be None\"\u001b[0m\u001b[1;33m)\u001b[0m\u001b[1;33m\u001b[0m\u001b[1;33m\u001b[0m\u001b[0m\n\u001b[0;32m    813\u001b[0m \u001b[1;33m\u001b[0m\u001b[0m\n\u001b[1;32m--> 814\u001b[1;33m     X = check_array(X, accept_sparse=accept_sparse,\n\u001b[0m\u001b[0;32m    815\u001b[0m                     \u001b[0maccept_large_sparse\u001b[0m\u001b[1;33m=\u001b[0m\u001b[0maccept_large_sparse\u001b[0m\u001b[1;33m,\u001b[0m\u001b[1;33m\u001b[0m\u001b[1;33m\u001b[0m\u001b[0m\n\u001b[0;32m    816\u001b[0m                     \u001b[0mdtype\u001b[0m\u001b[1;33m=\u001b[0m\u001b[0mdtype\u001b[0m\u001b[1;33m,\u001b[0m \u001b[0morder\u001b[0m\u001b[1;33m=\u001b[0m\u001b[0morder\u001b[0m\u001b[1;33m,\u001b[0m \u001b[0mcopy\u001b[0m\u001b[1;33m=\u001b[0m\u001b[0mcopy\u001b[0m\u001b[1;33m,\u001b[0m\u001b[1;33m\u001b[0m\u001b[1;33m\u001b[0m\u001b[0m\n",
      "\u001b[1;32mc:\\users\\nadto\\appdata\\local\\programs\\python\\python38\\lib\\site-packages\\sklearn\\utils\\validation.py\u001b[0m in \u001b[0;36minner_f\u001b[1;34m(*args, **kwargs)\u001b[0m\n\u001b[0;32m     61\u001b[0m             \u001b[0mextra_args\u001b[0m \u001b[1;33m=\u001b[0m \u001b[0mlen\u001b[0m\u001b[1;33m(\u001b[0m\u001b[0margs\u001b[0m\u001b[1;33m)\u001b[0m \u001b[1;33m-\u001b[0m \u001b[0mlen\u001b[0m\u001b[1;33m(\u001b[0m\u001b[0mall_args\u001b[0m\u001b[1;33m)\u001b[0m\u001b[1;33m\u001b[0m\u001b[1;33m\u001b[0m\u001b[0m\n\u001b[0;32m     62\u001b[0m             \u001b[1;32mif\u001b[0m \u001b[0mextra_args\u001b[0m \u001b[1;33m<=\u001b[0m \u001b[1;36m0\u001b[0m\u001b[1;33m:\u001b[0m\u001b[1;33m\u001b[0m\u001b[1;33m\u001b[0m\u001b[0m\n\u001b[1;32m---> 63\u001b[1;33m                 \u001b[1;32mreturn\u001b[0m \u001b[0mf\u001b[0m\u001b[1;33m(\u001b[0m\u001b[1;33m*\u001b[0m\u001b[0margs\u001b[0m\u001b[1;33m,\u001b[0m \u001b[1;33m**\u001b[0m\u001b[0mkwargs\u001b[0m\u001b[1;33m)\u001b[0m\u001b[1;33m\u001b[0m\u001b[1;33m\u001b[0m\u001b[0m\n\u001b[0m\u001b[0;32m     64\u001b[0m \u001b[1;33m\u001b[0m\u001b[0m\n\u001b[0;32m     65\u001b[0m             \u001b[1;31m# extra_args > 0\u001b[0m\u001b[1;33m\u001b[0m\u001b[1;33m\u001b[0m\u001b[1;33m\u001b[0m\u001b[0m\n",
      "\u001b[1;32mc:\\users\\nadto\\appdata\\local\\programs\\python\\python38\\lib\\site-packages\\sklearn\\utils\\validation.py\u001b[0m in \u001b[0;36mcheck_array\u001b[1;34m(array, accept_sparse, accept_large_sparse, dtype, order, copy, force_all_finite, ensure_2d, allow_nd, ensure_min_samples, ensure_min_features, estimator)\u001b[0m\n\u001b[0;32m    667\u001b[0m         \u001b[0mn_samples\u001b[0m \u001b[1;33m=\u001b[0m \u001b[0m_num_samples\u001b[0m\u001b[1;33m(\u001b[0m\u001b[0marray\u001b[0m\u001b[1;33m)\u001b[0m\u001b[1;33m\u001b[0m\u001b[1;33m\u001b[0m\u001b[0m\n\u001b[0;32m    668\u001b[0m         \u001b[1;32mif\u001b[0m \u001b[0mn_samples\u001b[0m \u001b[1;33m<\u001b[0m \u001b[0mensure_min_samples\u001b[0m\u001b[1;33m:\u001b[0m\u001b[1;33m\u001b[0m\u001b[1;33m\u001b[0m\u001b[0m\n\u001b[1;32m--> 669\u001b[1;33m             raise ValueError(\"Found array with %d sample(s) (shape=%s) while a\"\n\u001b[0m\u001b[0;32m    670\u001b[0m                              \u001b[1;34m\" minimum of %d is required%s.\"\u001b[0m\u001b[1;33m\u001b[0m\u001b[1;33m\u001b[0m\u001b[0m\n\u001b[0;32m    671\u001b[0m                              % (n_samples, array.shape, ensure_min_samples,\n",
      "\u001b[1;31mValueError\u001b[0m: Found array with 0 sample(s) (shape=(0, 1024)) while a minimum of 1 is required."
     ]
    }
   ],
   "source": [
    "# Check if it works :)\n",
    "trainFAR, trainFRR, testFAR, testFRR = evaluate(classifierType, hyperparameters, features, labels)\n",
    "print('Train:')\n",
    "print('\\tFAR:', trainFAR)\n",
    "print('\\tFRR:', trainFRR)\n",
    "\n",
    "print('Test:')\n",
    "print('\\tFAR:', testFAR)\n",
    "print('\\tFRR:', testFRR)"
   ]
  },
  {
   "cell_type": "code",
   "execution_count": null,
   "id": "preliminary-saskatchewan",
   "metadata": {},
   "outputs": [],
   "source": []
  }
 ],
 "metadata": {
  "kernelspec": {
   "display_name": "Python 3",
   "language": "python",
   "name": "python3"
  },
  "language_info": {
   "codemirror_mode": {
    "name": "ipython",
    "version": 3
   },
   "file_extension": ".py",
   "mimetype": "text/x-python",
   "name": "python",
   "nbconvert_exporter": "python",
   "pygments_lexer": "ipython3",
   "version": "3.8.7"
  }
 },
 "nbformat": 4,
 "nbformat_minor": 5
}
